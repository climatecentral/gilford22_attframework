{
 "cells": [
  {
   "cell_type": "markdown",
   "id": "7843862d-ac17-4f2d-abfb-ac962e207777",
   "metadata": {},
   "source": [
    "# Description"
   ]
  },
  {
   "cell_type": "markdown",
   "id": "alert-drawing",
   "metadata": {},
   "source": [
    "This notebooks uses the calendar and probability distributions to calculate/create a table of outputs showing the expected number of \"Natural\" counts one would expect to see over three different time scales---annual, seasonal (3 months), and monthly---given a particularly chosen percentile.\n",
    "\n",
    "The resulting numbers are printed to create Supporting Information Table S2, and the counts are saved into **[Ndays_Expected.nc](./data/analysis/Ndays_Expected.nc)** for use in the attribution analyses (see XXXXXXXXX).\n",
    "\n",
    "**TABLES PRODUCED IN THIS CODE**\n",
    "* Table S2"
   ]
  },
  {
   "cell_type": "code",
   "execution_count": 1,
   "id": "dd09bf86-89b7-4fd3-802e-dd9fd2d7d79b",
   "metadata": {},
   "outputs": [],
   "source": [
    "import numpy as np\n",
    "import pandas as pd\n",
    "from calendar import monthrange\n",
    "import matplotlib.pyplot as plt\n",
    "import xarray as xr\n",
    "import os"
   ]
  },
  {
   "cell_type": "markdown",
   "id": "ambient-century",
   "metadata": {},
   "source": [
    "### Definitions -- Percentiles and Time Periods"
   ]
  },
  {
   "cell_type": "markdown",
   "id": "8239180b-6be7-4fd4-90ff-cc8dbdeab439",
   "metadata": {},
   "source": [
    "Time scales considered:\n",
    "* Annual (1 year: 365 days)\n",
    "* Seasonal (3 months: DJF, MAM, JJA, SON; ndays vary by months included)\n",
    "* Monthly (ndays vary by month)\n",
    "\n",
    "Percentiles explored:\n",
    "* 99.99, 99.9, 99, 98, 97.5, 97, 96.7 96, ..., 50\n",
    "* 0.01, 0.1, 1, 2, 2.5, 3, 3.33, 4, 5, ..., 49"
   ]
  },
  {
   "cell_type": "code",
   "execution_count": 2,
   "id": "fallen-democracy",
   "metadata": {},
   "outputs": [
    {
     "name": "stdout",
     "output_type": "stream",
     "text": [
      "[0.01  0.1   1.    2.    2.5   3.    3.333 3.    4.    5.   ]\n",
      "[94.    95.    96.    96.667 97.    97.5   98.    99.    99.9   99.99 ]\n"
     ]
    }
   ],
   "source": [
    "# define the percentile grids\n",
    "midgrid=np.arange(3,96+1,1)\n",
    "lowgrid=np.asarray([0.01,0.1,1,2,2.5,3,3.333])\n",
    "highgrid=np.flip(100-lowgrid)\n",
    "# combine them into a single grid\n",
    "pgrid=np.concatenate((lowgrid,midgrid,highgrid))\n",
    "print(pgrid[:10])\n",
    "print(pgrid[-10:])\n",
    "npc=len(pgrid)"
   ]
  },
  {
   "cell_type": "code",
   "execution_count": 3,
   "id": "suffering-introduction",
   "metadata": {},
   "outputs": [],
   "source": [
    "# define the number of days in each month (ignore leap years)\n",
    "mondays=np.asarray([monthrange(2011, i)[1] for i in np.arange(12)+1])\n",
    "\n",
    "# get the number of days in a year\n",
    "ndays_yr=np.sum(mondays)\n",
    "\n",
    "# get the number of days in each season (DJF, MAM, JJA, SON), by shifting mondays 1 month\n",
    "ndays_seas=np.asarray([np.sum(np.roll(mondays,1)[i:i+3]) for i in np.arange(0,10,3)])\n"
   ]
  },
  {
   "cell_type": "markdown",
   "id": "extra-advisory",
   "metadata": {},
   "source": [
    "## Find the number of Expected counts in a season, by percentile"
   ]
  },
  {
   "cell_type": "markdown",
   "id": "rotary-kelly",
   "metadata": {},
   "source": [
    "The expected number of counts for a specific period is by the definition of the percentile, where the ordinal rank ($n_{rank}$) is given by the percentile between 0 and 100, $p$, and the number of values in the ordered list ($N$):\n",
    "\n",
    "$ n_{rank} = \\frac{p}{100} \\times N$\n",
    "\n",
    "For our purposes, the number of values in our list corresponds to the number of days we are analyzing over, i.e. $N \\equiv n_{days}$:\n",
    "\n",
    "$ n_{rank,day} = \\frac{p}{100} \\times (n_{days})$\n",
    "\n",
    "So that, through the definition of the ordinal rank, the total of number of days which will exceed it ($n_{exceedances}$), based on the percentile, is given by:\n",
    "\n",
    "$n_{exceedances} = n_{days} - n_{rank,day} = n_{days} - \\frac{p}{100} \\times (n_{days}) $"
   ]
  },
  {
   "cell_type": "markdown",
   "id": "compressed-contemporary",
   "metadata": {},
   "source": [
    "#### Example\n",
    "\n",
    "Let's assume that we are searching for the threshold for the number of exceedances of the defined percentile threshold, if $p=95$ and our time period is annual ($n_{days}=365$).\n",
    "\n",
    "#### Subceedance\n",
    "\n",
    "If we are looking for the number of values _under_ the threshold, we would find the subceedance, which is equal to the number of days in our period MINUS the threshold number, i.e. \n",
    "$n_{subceedances} =  n_{days} - n_{exceedances}$ , which is identically $n_{rank,day}$.\n",
    "\n",
    "NOTE: The unit of $n_{exceedances}$/$n_{subceedances}$ always matches that of the counts in your list (annual is number of days)"
   ]
  },
  {
   "cell_type": "code",
   "execution_count": 4,
   "id": "aerial-toner",
   "metadata": {},
   "outputs": [],
   "source": [
    "# Functions to calculate the natural thresholds associated with a list of values\n",
    "def nat_exceed(pp,ndays):\n",
    "    # pp is the percentile over 0-100\n",
    "    # ndays in the number of values in your list (usually number of days)\n",
    "    nexceed=ndays-(pp/100)*ndays\n",
    "    return(nexceed)\n",
    "\n",
    "def nat_subceed(pp,ndays):\n",
    "    # pp is the percentile over 0-100\n",
    "    # ndays in the number of values in your list (usually number of days)\n",
    "    nsubceed=(pp/100)*ndays\n",
    "    return(nsubceed)"
   ]
  },
  {
   "cell_type": "code",
   "execution_count": 5,
   "id": "addressed-arena",
   "metadata": {},
   "outputs": [
    {
     "name": "stdout",
     "output_type": "stream",
     "text": [
      "18.25\n",
      "346.75\n"
     ]
    }
   ],
   "source": [
    "p1=95\n",
    "n1=nat_exceed(p1,ndays_yr)\n",
    "n2=nat_subceed(p1,ndays_yr)\n",
    "print(n1)\n",
    "print(n2)"
   ]
  },
  {
   "cell_type": "markdown",
   "id": "productive-parallel",
   "metadata": {},
   "source": [
    "So all together, for the 95th percentile we would expect there to be exactly 18.25 days which would meet or exceed this percentile over a representative 365 day period. Meanwhile, the number of days at or below that threshold is 346.75."
   ]
  },
  {
   "cell_type": "markdown",
   "id": "convenient-screen",
   "metadata": {},
   "source": [
    "## Create the Grids"
   ]
  },
  {
   "cell_type": "code",
   "execution_count": 6,
   "id": "wooden-destination",
   "metadata": {},
   "outputs": [],
   "source": [
    "# create an annual grid of exceedances\n",
    "annual_exceed=np.empty((npc,),dtype='float')\n",
    "annual_exceed[:,]=nat_exceed(pgrid,ndays_yr)\n",
    "annual_subceed=np.empty((npc,),dtype='float')\n",
    "annual_subceed[:,]=nat_subceed(pgrid,ndays_yr)\n",
    "\n",
    "# create a monthly and seasonal grid\n",
    "mon_exceed=np.empty((npc,len(mondays)),dtype='float')\n",
    "mon_subceed=np.empty((npc,len(mondays)),dtype='float')\n",
    "seas_exceed=np.empty((npc,len(ndays_seas)),dtype='float')\n",
    "seas_subceed=np.empty((npc,len(ndays_seas)),dtype='float')\n",
    "for pp,p0 in enumerate(pgrid):\n",
    "    seas_exceed[pp,:]=nat_exceed(p0,ndays_seas)\n",
    "    mon_exceed[pp,:]=nat_exceed(p0,mondays)\n",
    "    seas_subceed[pp,:]=nat_subceed(p0,ndays_seas)\n",
    "    mon_subceed[pp,:]=nat_subceed(p0,mondays)"
   ]
  },
  {
   "cell_type": "markdown",
   "id": "ab2881bf-fbe1-44c4-b30e-895eeb55d3fa",
   "metadata": {},
   "source": [
    "For sanity, check the average of the expected number of days in a season (should be ~90 days)."
   ]
  },
  {
   "cell_type": "code",
   "execution_count": 7,
   "id": "commercial-vinyl",
   "metadata": {},
   "outputs": [
    {
     "data": {
      "text/plain": [
       "91.25"
      ]
     },
     "execution_count": 7,
     "metadata": {},
     "output_type": "execute_result"
    }
   ],
   "source": [
    "np.mean(ndays_seas)"
   ]
  },
  {
   "cell_type": "markdown",
   "id": "40f84740-c375-4c16-9ef4-017322b87582",
   "metadata": {},
   "source": [
    "## Quick Look at the results"
   ]
  },
  {
   "cell_type": "code",
   "execution_count": 8,
   "id": "radical-portsmouth",
   "metadata": {},
   "outputs": [
    {
     "name": "stdout",
     "output_type": "stream",
     "text": [
      "88.0\n",
      "30.416666666666668\n",
      "3.65\n",
      "93.0\n",
      "2.1291666666666647\n",
      "95.0\n",
      "1.520833333333334\n",
      "96.667\n",
      "1.0137874999999996\n"
     ]
    }
   ],
   "source": [
    "print(pgrid[92])\n",
    "print(np.mean(mondays))\n",
    "print(np.mean(mon_exceed[92,:]))\n",
    "\n",
    "print(pgrid[97])\n",
    "print(np.mean(mon_exceed[97,:]))\n",
    "\n",
    "print(pgrid[99])\n",
    "print(np.mean(mon_exceed[99,:]))\n",
    "\n",
    "print(pgrid[101])\n",
    "print(np.mean(mon_exceed[101,:]))"
   ]
  },
  {
   "cell_type": "code",
   "execution_count": 9,
   "id": "official-number",
   "metadata": {},
   "outputs": [
    {
     "name": "stdout",
     "output_type": "stream",
     "text": [
      "88.0\n",
      "91.25\n",
      "10.950000000000003\n",
      "93.0\n",
      "6.387499999999996\n",
      "95.0\n",
      "4.5625000000000036\n",
      "96.667\n",
      "3.0413625000000017\n"
     ]
    }
   ],
   "source": [
    "print(pgrid[92])\n",
    "print(np.mean(ndays_seas))\n",
    "print(np.mean(seas_exceed[92,:]))\n",
    "\n",
    "print(pgrid[97])\n",
    "print(np.mean(seas_exceed[97,:]))\n",
    "\n",
    "print(pgrid[99])\n",
    "print(np.mean(seas_exceed[99,:]))\n",
    "\n",
    "print(pgrid[101])\n",
    "print(np.mean(seas_exceed[101,:]))"
   ]
  },
  {
   "cell_type": "code",
   "execution_count": 10,
   "id": "unlikely-seeker",
   "metadata": {},
   "outputs": [
    {
     "name": "stdout",
     "output_type": "stream",
     "text": [
      "88.0\n",
      "365.0\n",
      "43.80000000000001\n",
      "93.0\n",
      "25.549999999999955\n",
      "95.0\n",
      "18.25\n",
      "96.667\n",
      "12.165449999999964\n"
     ]
    }
   ],
   "source": [
    "print(pgrid[92])\n",
    "print(np.mean(365))\n",
    "print(np.mean(annual_exceed[92]))\n",
    "\n",
    "print(pgrid[97])\n",
    "print(np.mean(annual_exceed[97]))\n",
    "\n",
    "print(pgrid[99])\n",
    "print(np.mean(annual_exceed[99]))\n",
    "\n",
    "print(pgrid[101])\n",
    "print(np.mean(annual_exceed[101]))"
   ]
  },
  {
   "cell_type": "markdown",
   "id": "31f232fd-b73c-4bd6-95ed-2d07aa8fd236",
   "metadata": {},
   "source": [
    "# Create/Show Table S2"
   ]
  },
  {
   "cell_type": "markdown",
   "id": "bb2227c0-7ddb-45c9-a713-c9cea8ff2ac9",
   "metadata": {},
   "source": [
    "#### Aggregate Data"
   ]
  },
  {
   "cell_type": "code",
   "execution_count": 11,
   "id": "3192488d-defc-46b6-8ca2-0b91cda08fde",
   "metadata": {},
   "outputs": [],
   "source": [
    "q90_dict={\n",
    "    '30 (Month)': [np.mean(mon_exceed[92])],\n",
    "    '91 (Season)': [np.mean(seas_exceed[92])],\n",
    "    '365 (Year)': [np.mean(annual_exceed[92])],\n",
    "         }\n",
    "q90df=pd.DataFrame(q90_dict,index={'qi=0.90'})\n",
    "q95_dict={\n",
    "    '30 (Month)': np.mean(mon_exceed[97]),\n",
    "    '91 (Season)': np.mean(seas_exceed[97]),\n",
    "    '365 (Year)': np.mean(annual_exceed[97]),\n",
    "         }\n",
    "q95df=pd.DataFrame(q95_dict,index={'qi=0.95'})\n",
    "q975_dict={\n",
    "    '30 (Month)': np.mean(mon_exceed[99]),\n",
    "    '91 (Season)': np.mean(seas_exceed[99]),\n",
    "    '365 (Year)': np.mean(annual_exceed[99]),\n",
    "         }\n",
    "q975df=pd.DataFrame(q975_dict,index={'qi=0.975'})\n",
    "q99_dict={\n",
    "    '30 (Month)': np.mean(mon_exceed[101]),\n",
    "    '91 (Season)': np.mean(seas_exceed[101]),\n",
    "    '365 (Year)': np.mean(annual_exceed[101]),\n",
    "         }\n",
    "q99df=pd.DataFrame(q99_dict,index={'qi=0.99'})"
   ]
  },
  {
   "cell_type": "markdown",
   "id": "c1c2ab42-4b68-4122-bd7c-3c6f6195eac6",
   "metadata": {},
   "source": [
    "#### Print"
   ]
  },
  {
   "cell_type": "code",
   "execution_count": 12,
   "id": "cbcf40ec-6257-4efd-ae9c-fde87c540cb3",
   "metadata": {},
   "outputs": [
    {
     "data": {
      "text/html": [
       "<div>\n",
       "<style scoped>\n",
       "    .dataframe tbody tr th:only-of-type {\n",
       "        vertical-align: middle;\n",
       "    }\n",
       "\n",
       "    .dataframe tbody tr th {\n",
       "        vertical-align: top;\n",
       "    }\n",
       "\n",
       "    .dataframe thead th {\n",
       "        text-align: right;\n",
       "    }\n",
       "</style>\n",
       "<table border=\"1\" class=\"dataframe\">\n",
       "  <thead>\n",
       "    <tr style=\"text-align: right;\">\n",
       "      <th></th>\n",
       "      <th>30 (Month)</th>\n",
       "      <th>91 (Season)</th>\n",
       "      <th>365 (Year)</th>\n",
       "    </tr>\n",
       "  </thead>\n",
       "  <tbody>\n",
       "    <tr>\n",
       "      <th>qi=0.90</th>\n",
       "      <td>3.65</td>\n",
       "      <td>10.95</td>\n",
       "      <td>43.8</td>\n",
       "    </tr>\n",
       "  </tbody>\n",
       "</table>\n",
       "</div>"
      ],
      "text/plain": [
       "         30 (Month)  91 (Season)  365 (Year)\n",
       "qi=0.90        3.65        10.95        43.8"
      ]
     },
     "metadata": {},
     "output_type": "display_data"
    },
    {
     "data": {
      "text/html": [
       "<div>\n",
       "<style scoped>\n",
       "    .dataframe tbody tr th:only-of-type {\n",
       "        vertical-align: middle;\n",
       "    }\n",
       "\n",
       "    .dataframe tbody tr th {\n",
       "        vertical-align: top;\n",
       "    }\n",
       "\n",
       "    .dataframe thead th {\n",
       "        text-align: right;\n",
       "    }\n",
       "</style>\n",
       "<table border=\"1\" class=\"dataframe\">\n",
       "  <thead>\n",
       "    <tr style=\"text-align: right;\">\n",
       "      <th></th>\n",
       "      <th>30 (Month)</th>\n",
       "      <th>91 (Season)</th>\n",
       "      <th>365 (Year)</th>\n",
       "    </tr>\n",
       "  </thead>\n",
       "  <tbody>\n",
       "    <tr>\n",
       "      <th>qi=0.95</th>\n",
       "      <td>2.129167</td>\n",
       "      <td>6.3875</td>\n",
       "      <td>25.55</td>\n",
       "    </tr>\n",
       "  </tbody>\n",
       "</table>\n",
       "</div>"
      ],
      "text/plain": [
       "         30 (Month)  91 (Season)  365 (Year)\n",
       "qi=0.95    2.129167       6.3875       25.55"
      ]
     },
     "metadata": {},
     "output_type": "display_data"
    },
    {
     "data": {
      "text/html": [
       "<div>\n",
       "<style scoped>\n",
       "    .dataframe tbody tr th:only-of-type {\n",
       "        vertical-align: middle;\n",
       "    }\n",
       "\n",
       "    .dataframe tbody tr th {\n",
       "        vertical-align: top;\n",
       "    }\n",
       "\n",
       "    .dataframe thead th {\n",
       "        text-align: right;\n",
       "    }\n",
       "</style>\n",
       "<table border=\"1\" class=\"dataframe\">\n",
       "  <thead>\n",
       "    <tr style=\"text-align: right;\">\n",
       "      <th></th>\n",
       "      <th>30 (Month)</th>\n",
       "      <th>91 (Season)</th>\n",
       "      <th>365 (Year)</th>\n",
       "    </tr>\n",
       "  </thead>\n",
       "  <tbody>\n",
       "    <tr>\n",
       "      <th>qi=0.975</th>\n",
       "      <td>1.520833</td>\n",
       "      <td>4.5625</td>\n",
       "      <td>18.25</td>\n",
       "    </tr>\n",
       "  </tbody>\n",
       "</table>\n",
       "</div>"
      ],
      "text/plain": [
       "          30 (Month)  91 (Season)  365 (Year)\n",
       "qi=0.975    1.520833       4.5625       18.25"
      ]
     },
     "metadata": {},
     "output_type": "display_data"
    },
    {
     "data": {
      "text/html": [
       "<div>\n",
       "<style scoped>\n",
       "    .dataframe tbody tr th:only-of-type {\n",
       "        vertical-align: middle;\n",
       "    }\n",
       "\n",
       "    .dataframe tbody tr th {\n",
       "        vertical-align: top;\n",
       "    }\n",
       "\n",
       "    .dataframe thead th {\n",
       "        text-align: right;\n",
       "    }\n",
       "</style>\n",
       "<table border=\"1\" class=\"dataframe\">\n",
       "  <thead>\n",
       "    <tr style=\"text-align: right;\">\n",
       "      <th></th>\n",
       "      <th>30 (Month)</th>\n",
       "      <th>91 (Season)</th>\n",
       "      <th>365 (Year)</th>\n",
       "    </tr>\n",
       "  </thead>\n",
       "  <tbody>\n",
       "    <tr>\n",
       "      <th>qi=0.99</th>\n",
       "      <td>1.013787</td>\n",
       "      <td>3.041363</td>\n",
       "      <td>12.16545</td>\n",
       "    </tr>\n",
       "  </tbody>\n",
       "</table>\n",
       "</div>"
      ],
      "text/plain": [
       "         30 (Month)  91 (Season)  365 (Year)\n",
       "qi=0.99    1.013787     3.041363    12.16545"
      ]
     },
     "metadata": {},
     "output_type": "display_data"
    }
   ],
   "source": [
    "display(q90df)\n",
    "display(q95df)\n",
    "display(q975df)\n",
    "display(q99df)"
   ]
  },
  {
   "cell_type": "markdown",
   "id": "fdc01b80-2325-4edc-8902-fb86ea1270b4",
   "metadata": {},
   "source": [
    "# Save out the results"
   ]
  },
  {
   "cell_type": "markdown",
   "id": "04c4f1e5-d097-4a8b-9854-ce2c88e28615",
   "metadata": {},
   "source": [
    "We will store the result in an xarray dataset and then save out the data to a netcdf that can be read throughout the attribution analysis codebase."
   ]
  },
  {
   "cell_type": "code",
   "execution_count": 13,
   "id": "3278ab98-61f7-4ea5-90e6-699f054b0445",
   "metadata": {},
   "outputs": [],
   "source": [
    "# define monthly period labels\n",
    "seaslabels=['DJF','MAM','JJA','SON']\n",
    "monlabels=['J','F','M','A','M','J','J','A','S','O','N','D']"
   ]
  },
  {
   "cell_type": "code",
   "execution_count": 14,
   "id": "active-immunology",
   "metadata": {},
   "outputs": [],
   "source": [
    "dso=xr.Dataset(\n",
    "    {\n",
    "        'AnnualExceedance': (['pp'], annual_exceed),\n",
    "        'AnnualSubceedance': (['pp'], annual_subceed),\n",
    "        'SeasonalExceedance': (['pp','seas'], seas_exceed),\n",
    "        'SeasonalSubceedance': (['pp','seas'], seas_subceed),\n",
    "        'MonthlyExceedance': (['pp','mon'], mon_exceed),\n",
    "        'MonthlySubceedance': (['pp','mon'], mon_subceed),\n",
    "    },\n",
    "    coords={\n",
    "        'pp': (['pp'], pgrid.squeeze()),\n",
    "        'seas': (['seas'], seaslabels),\n",
    "        'mon': (['mon'], monlabels)\n",
    "    },\n",
    "    attrs={\n",
    "        'Dataset Unit': 'Number of Days Equal to or Exceeding OR Subceeding the percentile'\n",
    "    }\n",
    ")"
   ]
  },
  {
   "cell_type": "code",
   "execution_count": 15,
   "id": "amended-spice",
   "metadata": {},
   "outputs": [],
   "source": [
    "# save out the result\n",
    "savepath='./data/analysis/'\n",
    "savename='Ndays_Expected.nc'\n",
    "# remove the file if it already exists\n",
    "if os.path.exists(savepath+savename):\n",
    "    os.remove(savepath+savename)\n",
    "# the save the result\n",
    "dso.to_netcdf(savepath+savename)"
   ]
  },
  {
   "cell_type": "markdown",
   "id": "89977565-5a7e-4a70-8c29-e43ac59d624a",
   "metadata": {},
   "source": [
    "\n",
    "---"
   ]
  },
  {
   "cell_type": "markdown",
   "id": "permanent-conference",
   "metadata": {},
   "source": [
    "# Plot the results"
   ]
  },
  {
   "cell_type": "markdown",
   "id": "cf5c7072-68da-463c-a5ff-218d9b55307f",
   "metadata": {},
   "source": [
    "The following analyses are for illustrative/intuition-building purposes only."
   ]
  },
  {
   "cell_type": "markdown",
   "id": "genuine-cooking",
   "metadata": {},
   "source": [
    "### Annual"
   ]
  },
  {
   "cell_type": "code",
   "execution_count": 16,
   "id": "announced-dynamics",
   "metadata": {},
   "outputs": [
    {
     "data": {
      "image/png": "[encoded data removed]",
      "text/plain": [
       "<Figure size 576x360 with 1 Axes>"
      ]
     },
     "metadata": {
      "needs_background": "light"
     },
     "output_type": "display_data"
    },
    {
     "data": {
      "image/png": "[encoded data removed]",
      "text/plain": [
       "<Figure size 864x288 with 2 Axes>"
      ]
     },
     "metadata": {
      "needs_background": "light"
     },
     "output_type": "display_data"
    }
   ],
   "source": [
    "plt.figure(figsize=(8,5))\n",
    "plt.plot(pgrid,annual_exceed,lw=3,label='exceed')\n",
    "plt.plot(pgrid,annual_subceed,lw=3,label='subceed')\n",
    "plt.xlim([100,0])\n",
    "plt.xlabel('Percentile',fontsize=16)\n",
    "plt.ylabel('Associated Day Threshold',fontsize=16)\n",
    "plt.title('Number of Days Annually expected to Exceed each Percentile',fontsize=16)\n",
    "plt.xticks(fontsize=16)\n",
    "plt.yticks(fontsize=16)\n",
    "plt.legend()\n",
    "plt.show()\n",
    "\n",
    "plt.figure(figsize=(12,4))\n",
    "plt.subplot(1,2,1)\n",
    "plt.plot(pgrid,annual_exceed,lw=3,label='exceed')\n",
    "plt.plot(pgrid,annual_subceed,lw=3,label='subceed')\n",
    "plt.xlim([100,95])\n",
    "plt.ylim([0,20])\n",
    "plt.xlabel('Percentile',fontsize=16)\n",
    "plt.ylabel('Associated Day Threshold',fontsize=16)\n",
    "plt.xticks(fontsize=16)\n",
    "plt.yticks(fontsize=16)\n",
    "plt.hlines(1,0,100,color='r',linestyle='--')\n",
    "\n",
    "plt.subplot(1,2,2)\n",
    "plt.plot(pgrid,annual_exceed,lw=3,label='exceed')\n",
    "plt.plot(pgrid,annual_subceed,lw=3,label='subceed')\n",
    "plt.xlim([5,0])\n",
    "plt.ylim([0,20])\n",
    "plt.xlabel('Percentile',fontsize=16)\n",
    "plt.xticks(fontsize=16)\n",
    "plt.yticks(fontsize=16)\n",
    "plt.hlines(1,0,100,color='r',linestyle='--',label='1 day per year')\n",
    "\n",
    "plt.legend()\n",
    "plt.show()"
   ]
  },
  {
   "cell_type": "markdown",
   "id": "collected-administrator",
   "metadata": {},
   "source": [
    "### Seasonal"
   ]
  },
  {
   "cell_type": "code",
   "execution_count": 17,
   "id": "antique-fitting",
   "metadata": {},
   "outputs": [
    {
     "data": {
      "image/png": "[encoded data removed]",
      "text/plain": [
       "<Figure size 1008x360 with 4 Axes>"
      ]
     },
     "metadata": {
      "needs_background": "light"
     },
     "output_type": "display_data"
    }
   ],
   "source": [
    "plt.figure(figsize=(14,5))\n",
    "clevels=np.arange(0,55,5)\n",
    "\n",
    "plt.subplot(1,2,1)\n",
    "c1=plt.contourf(pgrid,np.arange(4),seas_exceed.T,levels=clevels)\n",
    "plt.contour(pgrid,np.arange(4),seas_exceed.T,colors='r',linewidths=2,linestyles='--',levels=[0.99,1.01])\n",
    "plt.yticks(np.arange(4),seaslabels)\n",
    "plt.colorbar(c1)\n",
    "plt.xlim([100,50])\n",
    "plt.ylim([3,0])\n",
    "plt.xlabel('Percentile',fontsize=16)\n",
    "plt.ylabel('Seasons',fontsize=16)\n",
    "plt.title('Seasonal Exceedances (ndays)',fontsize=16)\n",
    "plt.xticks(fontsize=16)\n",
    "plt.yticks(fontsize=16)\n",
    "\n",
    "plt.subplot(1,2,2)\n",
    "c2=plt.contourf(pgrid,np.arange(4),seas_subceed.T,levels=clevels)\n",
    "plt.contour(pgrid,np.arange(4),seas_subceed.T,colors='r',linewidths=2,linestyles='--',levels=[0.99,1.01])\n",
    "plt.yticks(np.arange(4),seaslabels)\n",
    "plt.colorbar(c2)\n",
    "plt.xlim([50,0])\n",
    "plt.ylim([3,0])\n",
    "plt.xlabel('Percentile',fontsize=16)\n",
    "plt.ylabel('Seasons',fontsize=16)\n",
    "plt.title('Seasonal Subceedances (ndays)',fontsize=16)\n",
    "plt.xticks(fontsize=16)\n",
    "plt.yticks(fontsize=16)\n",
    "plt.show()"
   ]
  },
  {
   "cell_type": "markdown",
   "id": "noble-protest",
   "metadata": {},
   "source": [
    "### Monthly"
   ]
  },
  {
   "cell_type": "code",
   "execution_count": 18,
   "id": "comfortable-image",
   "metadata": {},
   "outputs": [
    {
     "data": {
      "image/png": "[encoded data removed]",
      "text/plain": [
       "<Figure size 1008x360 with 4 Axes>"
      ]
     },
     "metadata": {
      "needs_background": "light"
     },
     "output_type": "display_data"
    }
   ],
   "source": [
    "plt.figure(figsize=(14,5))\n",
    "clevels=np.arange(0,16+1,2)\n",
    "\n",
    "plt.subplot(1,2,1)\n",
    "c1=plt.contourf(pgrid,np.arange(12),mon_exceed.T,levels=clevels)\n",
    "plt.contour(pgrid,np.arange(12),mon_exceed.T,colors='r',linewidths=2,linestyles='--',levels=[0.99,1.01])\n",
    "plt.yticks(np.arange(12),monlabels)\n",
    "plt.colorbar(c1)\n",
    "plt.xlim([100,50])\n",
    "plt.ylim([11,0])\n",
    "plt.xlabel('Percentile',fontsize=16)\n",
    "plt.ylabel('Seasons',fontsize=16)\n",
    "plt.title('Monthly Exceedances (ndays)',fontsize=16)\n",
    "plt.xticks(fontsize=16)\n",
    "plt.yticks(fontsize=16)\n",
    "\n",
    "plt.subplot(1,2,2)\n",
    "c2=plt.contourf(pgrid,np.arange(12),mon_subceed.T,levels=clevels)\n",
    "plt.contour(pgrid,np.arange(12),mon_subceed.T,colors='r',linewidths=2,linestyles='--',levels=[0.99,1.01])\n",
    "plt.yticks(np.arange(12),monlabels)\n",
    "plt.colorbar(c2)\n",
    "plt.xlim([50,0])\n",
    "plt.ylim([11,0])\n",
    "plt.xlabel('Percentile',fontsize=16)\n",
    "plt.ylabel('Seasons',fontsize=16)\n",
    "plt.title('Monthly Subceedances (ndays)',fontsize=16)\n",
    "plt.xticks(fontsize=16)\n",
    "plt.yticks(fontsize=16)\n",
    "plt.show()"
   ]
  },
  {
   "cell_type": "code",
   "execution_count": null,
   "id": "infrared-formation",
   "metadata": {},
   "outputs": [],
   "source": []
  }
 ],
 "metadata": {
  "kernelspec": {
   "display_name": "Python 3 (ipykernel)",
   "language": "python",
   "name": "python3"
  },
  "language_info": {
   "codemirror_mode": {
    "name": "ipython",
    "version": 3
   },
   "file_extension": ".py",
   "mimetype": "text/x-python",
   "name": "python",
   "nbconvert_exporter": "python",
   "pygments_lexer": "ipython3",
   "version": "3.10.2"
  }
 },
 "nbformat": 4,
 "nbformat_minor": 5
}
