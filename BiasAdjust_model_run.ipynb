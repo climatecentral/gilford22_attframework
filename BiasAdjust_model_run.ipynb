{
 "cells": [
  {
   "cell_type": "markdown",
   "id": "a83b8060-cdb7-4a14-96ce-b94fbf2417f8",
   "metadata": {},
   "source": [
    "# Description"
   ]
  },
  {
   "cell_type": "markdown",
   "id": "6dd2611b-6797-4643-ac5b-689d2512ab92",
   "metadata": {},
   "source": [
    "This code bias corrects maximum temperature values from a set of global climate model runs, and calibrating with a set of global gridded observations from Berkeley Earth. We bias-adjust a user-chosen model run from the set of '**forced**' (i.e. concatenated historical+RCP8.5) and '**natural**' Climate Model Intercomparison Project 5 (CMIP5) runs available in \\*.zarr format (saved out via XXXXX.ipynb).\n",
    "\n",
    "Bias adjustment is performed based on the methodology of [Lange (2019)](doi.org/10.5194/gmd-12-3055-2019); functions in the [cmip5_bias_adjustment.py](./cmip5_bias_adjustment.py). Accordingly, this notebook is licenced following GNU [Affero General Public License v3.0](https://www.gnu.org/licenses/agpl-3.0.en.html).\n",
    "\n",
    "Bias-adjusted model runs are saved out into a set of data files that mimics the structure of the inputs."
   ]
  },
  {
   "cell_type": "markdown",
   "id": "9e37a7ea-0ce0-4e44-935f-7f03383b70be",
   "metadata": {},
   "source": [
    "# Setup"
   ]
  },
  {
   "cell_type": "code",
   "execution_count": 1,
   "id": "ae725422-5cc7-46fb-b504-e36875f483b8",
   "metadata": {},
   "outputs": [],
   "source": [
    "# import the packages we need to run this code\n",
    "import xarray as xr\n",
    "import matplotlib.pyplot as plt\n",
    "\n",
    "# import the modified bias-adjustment module\n",
    "import cmip5_bias_adjustment as ba"
   ]
  },
  {
   "cell_type": "markdown",
   "id": "423de42b-d459-45d9-9fff-62b89f02f852",
   "metadata": {},
   "source": [
    "# Bias-adjustment parameters"
   ]
  },
  {
   "cell_type": "markdown",
   "id": "2e386c6d-4873-414e-8c32-b086470d17dd",
   "metadata": {},
   "source": [
    "The user chooses a set of parameters used to guide the bias-adjustment process, including the calibration ('cal') and adjustment ('adj') periods."
   ]
  },
  {
   "cell_type": "code",
   "execution_count": null,
   "id": "725fbc2c-0920-4548-a5d9-71db8f7f13e5",
   "metadata": {},
   "outputs": [],
   "source": [
    "# choose the environmental state variable, the metric, we are looking at\n",
    "metric='TMAX'\n",
    "\n",
    "# define the training/calibration period which will use the relationship\n",
    "# between the observations and the model to guide the calibration over the\n",
    "# the adjustment period\n",
    "calibration_period=['1985-01-01','2015-12-31']\n",
    "\n",
    "# define the key parameters/code options for the bias adjustment modules\n",
    "# here, as our analysis is univariate for TMAX, we use those recommended for 'tas'\n",
    "options={\n",
    "    'distribution': 'normal',\n",
    "    'trend_preservation': 'additive',\n",
    "        }\n",
    "\n",
    "# nat_period=['1975-01-01','2005-12-31']\n"
   ]
  },
  {
   "cell_type": "markdown",
   "id": "6a9588d1-ddd7-478e-ad21-f0c0bd37ed5d",
   "metadata": {},
   "source": [
    "# Load Observations"
   ]
  },
  {
   "cell_type": "markdown",
   "id": "8e6ca26f-76f9-47bd-9065-7450b7090bdd",
   "metadata": {},
   "source": [
    "Gridded Berkeley Earth observations are used to calibrate the CMIP5 global climate model runs.\n",
    "\n",
    "Observations are provided [Berkeley Earth](http://berkeleyearth.org/data/) (BE), and are identical to those used in the observational analysis of this work (e.g. XXXXX.ipynb). BE daily maximum temeprature data were first downloaded by Karsten Haustein in March 2019 from the [Climate Explorer](https://climexp.knmi.nl/select.cgi?id=someone@somewhere&field=berkeley_tmax_daily) database provided by the World Meteorological Organization; regridding to the standard N96 raster was performed by K. Haustein using [CDO tools](https://code.mpimet.mpg.de/projects/cdo/) following: ```cdo remapbil,r192x145```."
   ]
  },
  {
   "cell_type": "code",
   "execution_count": null,
   "id": "74ce58b3-fcf4-46af-aa8a-4399764f7d0f",
   "metadata": {},
   "outputs": [],
   "source": []
  }
 ],
 "metadata": {
  "kernelspec": {
   "display_name": "Python 3.9 Attribution",
   "language": "python",
   "name": "attribution_py39"
  },
  "language_info": {
   "codemirror_mode": {
    "name": "ipython",
    "version": 3
   },
   "file_extension": ".py",
   "mimetype": "text/x-python",
   "name": "python",
   "nbconvert_exporter": "python",
   "pygments_lexer": "ipython3",
   "version": "3.9.9"
  }
 },
 "nbformat": 4,
 "nbformat_minor": 5
}
