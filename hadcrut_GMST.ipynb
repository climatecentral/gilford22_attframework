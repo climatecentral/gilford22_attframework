{
 "cells": [
  {
   "cell_type": "markdown",
   "id": "22719dc1-0eb3-4cf3-a2f7-824385f52540",
   "metadata": {
    "tags": []
   },
   "source": [
    "# Description"
   ]
  },
  {
   "cell_type": "markdown",
   "id": "ade1d324-8cfd-4ca2-8be5-ac2d5e1c9ff8",
   "metadata": {},
   "source": [
    "This code loads in raw HadCRUT5 global mean temperature data, analyzes it, and saves out an analysis netcdf file, [GMST-3yrmean.nc](./data/analysis/GMST-3yrmean.nc), of 3-year running mean observed global mean temperature anomalies since the IPCC reference period (1850&mdash;1899).\n",
    "\n",
    "We plot these temperatures and (and their anomalies over the time periods of interest in this study) along with the uncertainty envelope of the CMIP5 GMST anomalies over the period, creating and saving out Fig. S1.\n",
    "\n",
    "**FIGURES PRODUCED IN THIS CODE**\n",
    "* [Fig. S1](./paper_figures/si/figS1.pdf)"
   ]
  },
  {
   "cell_type": "markdown",
   "id": "d4a37a63-ebf6-4766-8324-0093cb2fec19",
   "metadata": {},
   "source": [
    "# Setup"
   ]
  },
  {
   "cell_type": "code",
   "execution_count": 1,
   "id": "sophisticated-chance",
   "metadata": {},
   "outputs": [],
   "source": [
    "# import the packages we need to run this code\n",
    "import numpy as np\n",
    "import xarray as xr\n",
    "import matplotlib.pyplot as plt\n",
    "import utilities as util\n",
    "\n",
    "# define the locations to save the figures into\n",
    "fig_main_savepath='./paper_figures/main/'\n",
    "fig_si_savepath='./paper_figures/si/'"
   ]
  },
  {
   "cell_type": "markdown",
   "id": "249fd182-1d00-474f-baa6-2a774239d01e",
   "metadata": {},
   "source": [
    "# Load HadCRUT5 Data"
   ]
  },
  {
   "cell_type": "markdown",
   "id": "be755040-31ef-44c6-9e83-49b64b2b4be4",
   "metadata": {},
   "source": [
    "Data originally downloaded by Daniel Gilford from the [Met Office Hadley Centre observations datasets](https://www.metoffice.gov.uk/hadobs/hadcrut5/data/current/download.html) on 17 August 2021."
   ]
  },
  {
   "cell_type": "code",
   "execution_count": 2,
   "id": "departmental-person",
   "metadata": {},
   "outputs": [],
   "source": [
    "# setup variables to load and organize the data\n",
    "datpath='./data/hadcrut/'\n",
    "gmst_metric='tas_mean'\n",
    "hadpath=datpath+'HadCRUT.5.0.1.0.analysis.summary_series.global.monthly.nc'\n",
    "# load the data into a data structure\n",
    "haddat = xr.open_dataset(hadpath)"
   ]
  },
  {
   "cell_type": "markdown",
   "id": "52e78697-9f13-46b3-8c3c-e654c9ec8c41",
   "metadata": {},
   "source": [
    "## Look at HadCRUT5 GMST metadata"
   ]
  },
  {
   "cell_type": "code",
   "execution_count": 3,
   "id": "5321781d-5245-457f-a3d8-e3b6f3ec3682",
   "metadata": {},
   "outputs": [
    {
     "data": {
      "text/html": [
       "<div><svg style=\"position: absolute; width: 0; height: 0; overflow: hidden\">\n",
       "<defs>\n",
       "<symbol id=\"icon-database\" viewBox=\"0 0 32 32\">\n",
       "<path d=\"M16 0c-8.837 0-16 2.239-16 5v4c0 2.761 7.163 5 16 5s16-2.239 16-5v-4c0-2.761-7.163-5-16-5z\"></path>\n",
       "<path d=\"M16 17c-8.837 0-16-2.239-16-5v6c0 2.761 7.163 5 16 5s16-2.239 16-5v-6c0 2.761-7.163 5-16 5z\"></path>\n",
       "<path d=\"M16 26c-8.837 0-16-2.239-16-5v6c0 2.761 7.163 5 16 5s16-2.239 16-5v-6c0 2.761-7.163 5-16 5z\"></path>\n",
       "</symbol>\n",
       "<symbol id=\"icon-file-text2\" viewBox=\"0 0 32 32\">\n",
       "<path d=\"M28.681 7.159c-0.694-0.947-1.662-2.053-2.724-3.116s-2.169-2.030-3.116-2.724c-1.612-1.182-2.393-1.319-2.841-1.319h-15.5c-1.378 0-2.5 1.121-2.5 2.5v27c0 1.378 1.122 2.5 2.5 2.5h23c1.378 0 2.5-1.122 2.5-2.5v-19.5c0-0.448-0.137-1.23-1.319-2.841zM24.543 5.457c0.959 0.959 1.712 1.825 2.268 2.543h-4.811v-4.811c0.718 0.556 1.584 1.309 2.543 2.268zM28 29.5c0 0.271-0.229 0.5-0.5 0.5h-23c-0.271 0-0.5-0.229-0.5-0.5v-27c0-0.271 0.229-0.5 0.5-0.5 0 0 15.499-0 15.5 0v7c0 0.552 0.448 1 1 1h7v19.5z\"></path>\n",
       "<path d=\"M23 26h-14c-0.552 0-1-0.448-1-1s0.448-1 1-1h14c0.552 0 1 0.448 1 1s-0.448 1-1 1z\"></path>\n",
       "<path d=\"M23 22h-14c-0.552 0-1-0.448-1-1s0.448-1 1-1h14c0.552 0 1 0.448 1 1s-0.448 1-1 1z\"></path>\n",
       "<path d=\"M23 18h-14c-0.552 0-1-0.448-1-1s0.448-1 1-1h14c0.552 0 1 0.448 1 1s-0.448 1-1 1z\"></path>\n",
       "</symbol>\n",
       "</defs>\n",
       "</svg>\n",
       "<style>/* CSS stylesheet for displaying xarray objects in jupyterlab.\n",
       " *\n",
       " */\n",
       "\n",
       ":root {\n",
       "  --xr-font-color0: var(--jp-content-font-color0, rgba(0, 0, 0, 1));\n",
       "  --xr-font-color2: var(--jp-content-font-color2, rgba(0, 0, 0, 0.54));\n",
       "  --xr-font-color3: var(--jp-content-font-color3, rgba(0, 0, 0, 0.38));\n",
       "  --xr-border-color: var(--jp-border-color2, #e0e0e0);\n",
       "  --xr-disabled-color: var(--jp-layout-color3, #bdbdbd);\n",
       "  --xr-background-color: var(--jp-layout-color0, white);\n",
       "  --xr-background-color-row-even: var(--jp-layout-color1, white);\n",
       "  --xr-background-color-row-odd: var(--jp-layout-color2, #eeeeee);\n",
       "}\n",
       "\n",
       "html[theme=dark],\n",
       "body.vscode-dark {\n",
       "  --xr-font-color0: rgba(255, 255, 255, 1);\n",
       "  --xr-font-color2: rgba(255, 255, 255, 0.54);\n",
       "  --xr-font-color3: rgba(255, 255, 255, 0.38);\n",
       "  --xr-border-color: #1F1F1F;\n",
       "  --xr-disabled-color: #515151;\n",
       "  --xr-background-color: #111111;\n",
       "  --xr-background-color-row-even: #111111;\n",
       "  --xr-background-color-row-odd: #313131;\n",
       "}\n",
       "\n",
       ".xr-wrap {\n",
       "  display: block;\n",
       "  min-width: 300px;\n",
       "  max-width: 700px;\n",
       "}\n",
       "\n",
       ".xr-text-repr-fallback {\n",
       "  /* fallback to plain text repr when CSS is not injected (untrusted notebook) */\n",
       "  display: none;\n",
       "}\n",
       "\n",
       ".xr-header {\n",
       "  padding-top: 6px;\n",
       "  padding-bottom: 6px;\n",
       "  margin-bottom: 4px;\n",
       "  border-bottom: solid 1px var(--xr-border-color);\n",
       "}\n",
       "\n",
       ".xr-header > div,\n",
       ".xr-header > ul {\n",
       "  display: inline;\n",
       "  margin-top: 0;\n",
       "  margin-bottom: 0;\n",
       "}\n",
       "\n",
       ".xr-obj-type,\n",
       ".xr-array-name {\n",
       "  margin-left: 2px;\n",
       "  margin-right: 10px;\n",
       "}\n",
       "\n",
       ".xr-obj-type {\n",
       "  color: var(--xr-font-color2);\n",
       "}\n",
       "\n",
       ".xr-sections {\n",
       "  padding-left: 0 !important;\n",
       "  display: grid;\n",
       "  grid-template-columns: 150px auto auto 1fr 20px 20px;\n",
       "}\n",
       "\n",
       ".xr-section-item {\n",
       "  display: contents;\n",
       "}\n",
       "\n",
       ".xr-section-item input {\n",
       "  display: none;\n",
       "}\n",
       "\n",
       ".xr-section-item input + label {\n",
       "  color: var(--xr-disabled-color);\n",
       "}\n",
       "\n",
       ".xr-section-item input:enabled + label {\n",
       "  cursor: pointer;\n",
       "  color: var(--xr-font-color2);\n",
       "}\n",
       "\n",
       ".xr-section-item input:enabled + label:hover {\n",
       "  color: var(--xr-font-color0);\n",
       "}\n",
       "\n",
       ".xr-section-summary {\n",
       "  grid-column: 1;\n",
       "  color: var(--xr-font-color2);\n",
       "  font-weight: 500;\n",
       "}\n",
       "\n",
       ".xr-section-summary > span {\n",
       "  display: inline-block;\n",
       "  padding-left: 0.5em;\n",
       "}\n",
       "\n",
       ".xr-section-summary-in:disabled + label {\n",
       "  color: var(--xr-font-color2);\n",
       "}\n",
       "\n",
       ".xr-section-summary-in + label:before {\n",
       "  display: inline-block;\n",
       "  content: '►';\n",
       "  font-size: 11px;\n",
       "  width: 15px;\n",
       "  text-align: center;\n",
       "}\n",
       "\n",
       ".xr-section-summary-in:disabled + label:before {\n",
       "  color: var(--xr-disabled-color);\n",
       "}\n",
       "\n",
       ".xr-section-summary-in:checked + label:before {\n",
       "  content: '▼';\n",
       "}\n",
       "\n",
       ".xr-section-summary-in:checked + label > span {\n",
       "  display: none;\n",
       "}\n",
       "\n",
       ".xr-section-summary,\n",
       ".xr-section-inline-details {\n",
       "  padding-top: 4px;\n",
       "  padding-bottom: 4px;\n",
       "}\n",
       "\n",
       ".xr-section-inline-details {\n",
       "  grid-column: 2 / -1;\n",
       "}\n",
       "\n",
       ".xr-section-details {\n",
       "  display: none;\n",
       "  grid-column: 1 / -1;\n",
       "  margin-bottom: 5px;\n",
       "}\n",
       "\n",
       ".xr-section-summary-in:checked ~ .xr-section-details {\n",
       "  display: contents;\n",
       "}\n",
       "\n",
       ".xr-array-wrap {\n",
       "  grid-column: 1 / -1;\n",
       "  display: grid;\n",
       "  grid-template-columns: 20px auto;\n",
       "}\n",
       "\n",
       ".xr-array-wrap > label {\n",
       "  grid-column: 1;\n",
       "  vertical-align: top;\n",
       "}\n",
       "\n",
       ".xr-preview {\n",
       "  color: var(--xr-font-color3);\n",
       "}\n",
       "\n",
       ".xr-array-preview,\n",
       ".xr-array-data {\n",
       "  padding: 0 5px !important;\n",
       "  grid-column: 2;\n",
       "}\n",
       "\n",
       ".xr-array-data,\n",
       ".xr-array-in:checked ~ .xr-array-preview {\n",
       "  display: none;\n",
       "}\n",
       "\n",
       ".xr-array-in:checked ~ .xr-array-data,\n",
       ".xr-array-preview {\n",
       "  display: inline-block;\n",
       "}\n",
       "\n",
       ".xr-dim-list {\n",
       "  display: inline-block !important;\n",
       "  list-style: none;\n",
       "  padding: 0 !important;\n",
       "  margin: 0;\n",
       "}\n",
       "\n",
       ".xr-dim-list li {\n",
       "  display: inline-block;\n",
       "  padding: 0;\n",
       "  margin: 0;\n",
       "}\n",
       "\n",
       ".xr-dim-list:before {\n",
       "  content: '(';\n",
       "}\n",
       "\n",
       ".xr-dim-list:after {\n",
       "  content: ')';\n",
       "}\n",
       "\n",
       ".xr-dim-list li:not(:last-child):after {\n",
       "  content: ',';\n",
       "  padding-right: 5px;\n",
       "}\n",
       "\n",
       ".xr-has-index {\n",
       "  font-weight: bold;\n",
       "}\n",
       "\n",
       ".xr-var-list,\n",
       ".xr-var-item {\n",
       "  display: contents;\n",
       "}\n",
       "\n",
       ".xr-var-item > div,\n",
       ".xr-var-item label,\n",
       ".xr-var-item > .xr-var-name span {\n",
       "  background-color: var(--xr-background-color-row-even);\n",
       "  margin-bottom: 0;\n",
       "}\n",
       "\n",
       ".xr-var-item > .xr-var-name:hover span {\n",
       "  padding-right: 5px;\n",
       "}\n",
       "\n",
       ".xr-var-list > li:nth-child(odd) > div,\n",
       ".xr-var-list > li:nth-child(odd) > label,\n",
       ".xr-var-list > li:nth-child(odd) > .xr-var-name span {\n",
       "  background-color: var(--xr-background-color-row-odd);\n",
       "}\n",
       "\n",
       ".xr-var-name {\n",
       "  grid-column: 1;\n",
       "}\n",
       "\n",
       ".xr-var-dims {\n",
       "  grid-column: 2;\n",
       "}\n",
       "\n",
       ".xr-var-dtype {\n",
       "  grid-column: 3;\n",
       "  text-align: right;\n",
       "  color: var(--xr-font-color2);\n",
       "}\n",
       "\n",
       ".xr-var-preview {\n",
       "  grid-column: 4;\n",
       "}\n",
       "\n",
       ".xr-var-name,\n",
       ".xr-var-dims,\n",
       ".xr-var-dtype,\n",
       ".xr-preview,\n",
       ".xr-attrs dt {\n",
       "  white-space: nowrap;\n",
       "  overflow: hidden;\n",
       "  text-overflow: ellipsis;\n",
       "  padding-right: 10px;\n",
       "}\n",
       "\n",
       ".xr-var-name:hover,\n",
       ".xr-var-dims:hover,\n",
       ".xr-var-dtype:hover,\n",
       ".xr-attrs dt:hover {\n",
       "  overflow: visible;\n",
       "  width: auto;\n",
       "  z-index: 1;\n",
       "}\n",
       "\n",
       ".xr-var-attrs,\n",
       ".xr-var-data {\n",
       "  display: none;\n",
       "  background-color: var(--xr-background-color) !important;\n",
       "  padding-bottom: 5px !important;\n",
       "}\n",
       "\n",
       ".xr-var-attrs-in:checked ~ .xr-var-attrs,\n",
       ".xr-var-data-in:checked ~ .xr-var-data {\n",
       "  display: block;\n",
       "}\n",
       "\n",
       ".xr-var-data > table {\n",
       "  float: right;\n",
       "}\n",
       "\n",
       ".xr-var-name span,\n",
       ".xr-var-data,\n",
       ".xr-attrs {\n",
       "  padding-left: 25px !important;\n",
       "}\n",
       "\n",
       ".xr-attrs,\n",
       ".xr-var-attrs,\n",
       ".xr-var-data {\n",
       "  grid-column: 1 / -1;\n",
       "}\n",
       "\n",
       "dl.xr-attrs {\n",
       "  padding: 0;\n",
       "  margin: 0;\n",
       "  display: grid;\n",
       "  grid-template-columns: 125px auto;\n",
       "}\n",
       "\n",
       ".xr-attrs dt,\n",
       ".xr-attrs dd {\n",
       "  padding: 0;\n",
       "  margin: 0;\n",
       "  float: left;\n",
       "  padding-right: 10px;\n",
       "  width: auto;\n",
       "}\n",
       "\n",
       ".xr-attrs dt {\n",
       "  font-weight: normal;\n",
       "  grid-column: 1;\n",
       "}\n",
       "\n",
       ".xr-attrs dt:hover span {\n",
       "  display: inline-block;\n",
       "  background: var(--xr-background-color);\n",
       "  padding-right: 10px;\n",
       "}\n",
       "\n",
       ".xr-attrs dd {\n",
       "  grid-column: 2;\n",
       "  white-space: pre-wrap;\n",
       "  word-break: break-all;\n",
       "}\n",
       "\n",
       ".xr-icon-database,\n",
       ".xr-icon-file-text2 {\n",
       "  display: inline-block;\n",
       "  vertical-align: middle;\n",
       "  width: 1em;\n",
       "  height: 1.5em !important;\n",
       "  stroke-width: 0;\n",
       "  stroke: currentColor;\n",
       "  fill: currentColor;\n",
       "}\n",
       "</style><pre class='xr-text-repr-fallback'>&lt;xarray.Dataset&gt;\n",
       "Dimensions:           (time: 2058, bnds: 2)\n",
       "Coordinates:\n",
       "  * time              (time) datetime64[ns] 1850-01-16T12:00:00 ... 2021-06-16\n",
       "    latitude          float64 0.0\n",
       "    longitude         float64 0.0\n",
       "    realization       int64 100\n",
       "Dimensions without coordinates: bnds\n",
       "Data variables:\n",
       "    tas_mean          (time) float64 -0.6746 -0.3334 -0.5913 ... 0.7064 0.7118\n",
       "    time_bnds         (time, bnds) datetime64[ns] 1850-01-01 ... 2021-07-01\n",
       "    latitude_bnds     (bnds) float64 -90.0 90.0\n",
       "    longitude_bnds    (bnds) float64 -180.0 180.0\n",
       "    realization_bnds  (bnds) int64 1 200\n",
       "    tas_lower         (time) float64 -0.9818 -0.7009 -0.9339 ... 0.6576 0.6592\n",
       "    tas_upper         (time) float64 -0.3674 0.03407 -0.2487 ... 0.7551 0.7643\n",
       "Attributes:\n",
       "    comment:      2m air temperature over land blended with sea water tempera...\n",
       "    history:      \n",
       "    institution:  Met Office Hadley Centre / Climatic Research Unit, Universi...\n",
       "    licence:      HadCRUT5 is licensed under the Open Government Licence v3.0...\n",
       "    reference:    C. P. Morice, J. J. Kennedy, N. A. Rayner, J. P. Winn, E. H...\n",
       "    source:       CRUTEM.5.0.1.0 HadSST.4.0.0.0\n",
       "    title:        HadCRUT.5.0.1.0 blended land air temperature and sea-surfac...\n",
       "    version:      HadCRUT.5.0.1.0\n",
       "    Conventions:  CF-1.7</pre><div class='xr-wrap' hidden><div class='xr-header'><div class='xr-obj-type'>xarray.Dataset</div></div><ul class='xr-sections'><li class='xr-section-item'><input id='section-2fd58b1f-9964-4383-b03f-c4d19ebb2ed7' class='xr-section-summary-in' type='checkbox' disabled ><label for='section-2fd58b1f-9964-4383-b03f-c4d19ebb2ed7' class='xr-section-summary'  title='Expand/collapse section'>Dimensions:</label><div class='xr-section-inline-details'><ul class='xr-dim-list'><li><span class='xr-has-index'>time</span>: 2058</li><li><span>bnds</span>: 2</li></ul></div><div class='xr-section-details'></div></li><li class='xr-section-item'><input id='section-eaa474c4-f380-4b8c-b81f-742fba95f971' class='xr-section-summary-in' type='checkbox'  checked><label for='section-eaa474c4-f380-4b8c-b81f-742fba95f971' class='xr-section-summary' >Coordinates: <span>(4)</span></label><div class='xr-section-inline-details'></div><div class='xr-section-details'><ul class='xr-var-list'><li class='xr-var-item'><div class='xr-var-name'><span class='xr-has-index'>time</span></div><div class='xr-var-dims'>(time)</div><div class='xr-var-dtype'>datetime64[ns]</div><div class='xr-var-preview xr-preview'>1850-01-16T12:00:00 ... 2021-06-16</div><input id='attrs-6d27c93b-1ac3-491a-b5ae-24d761635b90' class='xr-var-attrs-in' type='checkbox' ><label for='attrs-6d27c93b-1ac3-491a-b5ae-24d761635b90' title='Show/Hide attributes'><svg class='icon xr-icon-file-text2'><use xlink:href='#icon-file-text2'></use></svg></label><input id='data-53f6a335-0ac6-4a69-baf7-d60e194a3002' class='xr-var-data-in' type='checkbox'><label for='data-53f6a335-0ac6-4a69-baf7-d60e194a3002' title='Show/Hide data repr'><svg class='icon xr-icon-database'><use xlink:href='#icon-database'></use></svg></label><div class='xr-var-attrs'><dl class='xr-attrs'><dt><span>axis :</span></dt><dd>T</dd><dt><span>bounds :</span></dt><dd>time_bnds</dd><dt><span>standard_name :</span></dt><dd>time</dd><dt><span>long_name :</span></dt><dd>time</dd></dl></div><div class='xr-var-data'><pre>array([&#x27;1850-01-16T12:00:00.000000000&#x27;, &#x27;1850-02-15T00:00:00.000000000&#x27;,\n",
       "       &#x27;1850-03-16T12:00:00.000000000&#x27;, ..., &#x27;2021-04-16T00:00:00.000000000&#x27;,\n",
       "       &#x27;2021-05-16T12:00:00.000000000&#x27;, &#x27;2021-06-16T00:00:00.000000000&#x27;],\n",
       "      dtype=&#x27;datetime64[ns]&#x27;)</pre></div></li><li class='xr-var-item'><div class='xr-var-name'><span>latitude</span></div><div class='xr-var-dims'>()</div><div class='xr-var-dtype'>float64</div><div class='xr-var-preview xr-preview'>...</div><input id='attrs-67d730ab-d6c7-4083-abe3-a9bd2bc0288c' class='xr-var-attrs-in' type='checkbox' ><label for='attrs-67d730ab-d6c7-4083-abe3-a9bd2bc0288c' title='Show/Hide attributes'><svg class='icon xr-icon-file-text2'><use xlink:href='#icon-file-text2'></use></svg></label><input id='data-aa091f6c-6ffe-45cd-a31f-89754ee466b6' class='xr-var-data-in' type='checkbox'><label for='data-aa091f6c-6ffe-45cd-a31f-89754ee466b6' title='Show/Hide data repr'><svg class='icon xr-icon-database'><use xlink:href='#icon-database'></use></svg></label><div class='xr-var-attrs'><dl class='xr-attrs'><dt><span>bounds :</span></dt><dd>latitude_bnds</dd><dt><span>units :</span></dt><dd>degrees_north</dd><dt><span>standard_name :</span></dt><dd>latitude</dd><dt><span>long_name :</span></dt><dd>latitude</dd></dl></div><div class='xr-var-data'><pre>array(0.)</pre></div></li><li class='xr-var-item'><div class='xr-var-name'><span>longitude</span></div><div class='xr-var-dims'>()</div><div class='xr-var-dtype'>float64</div><div class='xr-var-preview xr-preview'>...</div><input id='attrs-1ca941b4-ecb9-45b5-85f9-187e60648a19' class='xr-var-attrs-in' type='checkbox' ><label for='attrs-1ca941b4-ecb9-45b5-85f9-187e60648a19' title='Show/Hide attributes'><svg class='icon xr-icon-file-text2'><use xlink:href='#icon-file-text2'></use></svg></label><input id='data-e6b48afc-08a9-41d5-a1f9-1fffda5b09a7' class='xr-var-data-in' type='checkbox'><label for='data-e6b48afc-08a9-41d5-a1f9-1fffda5b09a7' title='Show/Hide data repr'><svg class='icon xr-icon-database'><use xlink:href='#icon-database'></use></svg></label><div class='xr-var-attrs'><dl class='xr-attrs'><dt><span>bounds :</span></dt><dd>longitude_bnds</dd><dt><span>units :</span></dt><dd>degrees_east</dd><dt><span>standard_name :</span></dt><dd>longitude</dd><dt><span>long_name :</span></dt><dd>longitude</dd></dl></div><div class='xr-var-data'><pre>array(0.)</pre></div></li><li class='xr-var-item'><div class='xr-var-name'><span>realization</span></div><div class='xr-var-dims'>()</div><div class='xr-var-dtype'>int64</div><div class='xr-var-preview xr-preview'>...</div><input id='attrs-df5fa1c7-198e-485b-bb9c-c6d4a31c23a5' class='xr-var-attrs-in' type='checkbox' ><label for='attrs-df5fa1c7-198e-485b-bb9c-c6d4a31c23a5' title='Show/Hide attributes'><svg class='icon xr-icon-file-text2'><use xlink:href='#icon-file-text2'></use></svg></label><input id='data-9d72c655-4729-433c-859b-77e9e82c33a6' class='xr-var-data-in' type='checkbox'><label for='data-9d72c655-4729-433c-859b-77e9e82c33a6' title='Show/Hide data repr'><svg class='icon xr-icon-database'><use xlink:href='#icon-database'></use></svg></label><div class='xr-var-attrs'><dl class='xr-attrs'><dt><span>bounds :</span></dt><dd>realization_bnds</dd><dt><span>units :</span></dt><dd>1</dd><dt><span>standard_name :</span></dt><dd>realization</dd></dl></div><div class='xr-var-data'><pre>array(100)</pre></div></li></ul></div></li><li class='xr-section-item'><input id='section-0af7c6d5-a127-4027-b066-2bbcf6605400' class='xr-section-summary-in' type='checkbox'  checked><label for='section-0af7c6d5-a127-4027-b066-2bbcf6605400' class='xr-section-summary' >Data variables: <span>(7)</span></label><div class='xr-section-inline-details'></div><div class='xr-section-details'><ul class='xr-var-list'><li class='xr-var-item'><div class='xr-var-name'><span>tas_mean</span></div><div class='xr-var-dims'>(time)</div><div class='xr-var-dtype'>float64</div><div class='xr-var-preview xr-preview'>...</div><input id='attrs-9f506602-b67e-4296-96cc-b0a50c9532bb' class='xr-var-attrs-in' type='checkbox' ><label for='attrs-9f506602-b67e-4296-96cc-b0a50c9532bb' title='Show/Hide attributes'><svg class='icon xr-icon-file-text2'><use xlink:href='#icon-file-text2'></use></svg></label><input id='data-65afda2d-ea3e-4c6d-a2d6-6796ac522a88' class='xr-var-data-in' type='checkbox'><label for='data-65afda2d-ea3e-4c6d-a2d6-6796ac522a88' title='Show/Hide data repr'><svg class='icon xr-icon-database'><use xlink:href='#icon-database'></use></svg></label><div class='xr-var-attrs'><dl class='xr-attrs'><dt><span>long_name :</span></dt><dd>blended air_temperature_anomaly over land with sea_water_temperature_anomaly</dd><dt><span>units :</span></dt><dd>K</dd><dt><span>cell_methods :</span></dt><dd>area: mean (interval: 5.0 degrees_north 5.0 degrees_east) time: mean (interval: 1 month) longitude: latitude: mean latitude: mean realization: mean</dd></dl></div><div class='xr-var-data'><pre>array([-0.674564, -0.333416, -0.591323, ...,  0.760066,  0.706369,  0.711758])</pre></div></li><li class='xr-var-item'><div class='xr-var-name'><span>time_bnds</span></div><div class='xr-var-dims'>(time, bnds)</div><div class='xr-var-dtype'>datetime64[ns]</div><div class='xr-var-preview xr-preview'>...</div><input id='attrs-4784265a-7151-4372-a6a6-354256727fdf' class='xr-var-attrs-in' type='checkbox' disabled><label for='attrs-4784265a-7151-4372-a6a6-354256727fdf' title='Show/Hide attributes'><svg class='icon xr-icon-file-text2'><use xlink:href='#icon-file-text2'></use></svg></label><input id='data-373ad3e4-475a-4b73-924e-ae62570886a9' class='xr-var-data-in' type='checkbox'><label for='data-373ad3e4-475a-4b73-924e-ae62570886a9' title='Show/Hide data repr'><svg class='icon xr-icon-database'><use xlink:href='#icon-database'></use></svg></label><div class='xr-var-attrs'><dl class='xr-attrs'></dl></div><div class='xr-var-data'><pre>array([[&#x27;1850-01-01T00:00:00.000000000&#x27;, &#x27;1850-02-01T00:00:00.000000000&#x27;],\n",
       "       [&#x27;1850-02-01T00:00:00.000000000&#x27;, &#x27;1850-03-01T00:00:00.000000000&#x27;],\n",
       "       [&#x27;1850-03-01T00:00:00.000000000&#x27;, &#x27;1850-04-01T00:00:00.000000000&#x27;],\n",
       "       ...,\n",
       "       [&#x27;2021-04-01T00:00:00.000000000&#x27;, &#x27;2021-05-01T00:00:00.000000000&#x27;],\n",
       "       [&#x27;2021-05-01T00:00:00.000000000&#x27;, &#x27;2021-06-01T00:00:00.000000000&#x27;],\n",
       "       [&#x27;2021-06-01T00:00:00.000000000&#x27;, &#x27;2021-07-01T00:00:00.000000000&#x27;]],\n",
       "      dtype=&#x27;datetime64[ns]&#x27;)</pre></div></li><li class='xr-var-item'><div class='xr-var-name'><span>latitude_bnds</span></div><div class='xr-var-dims'>(bnds)</div><div class='xr-var-dtype'>float64</div><div class='xr-var-preview xr-preview'>...</div><input id='attrs-32e07650-a90d-42e5-92c4-1aeaaef90fae' class='xr-var-attrs-in' type='checkbox' disabled><label for='attrs-32e07650-a90d-42e5-92c4-1aeaaef90fae' title='Show/Hide attributes'><svg class='icon xr-icon-file-text2'><use xlink:href='#icon-file-text2'></use></svg></label><input id='data-e1e61798-3b15-4d87-b615-d449703dcdfc' class='xr-var-data-in' type='checkbox'><label for='data-e1e61798-3b15-4d87-b615-d449703dcdfc' title='Show/Hide data repr'><svg class='icon xr-icon-database'><use xlink:href='#icon-database'></use></svg></label><div class='xr-var-attrs'><dl class='xr-attrs'></dl></div><div class='xr-var-data'><pre>array([-90.,  90.])</pre></div></li><li class='xr-var-item'><div class='xr-var-name'><span>longitude_bnds</span></div><div class='xr-var-dims'>(bnds)</div><div class='xr-var-dtype'>float64</div><div class='xr-var-preview xr-preview'>...</div><input id='attrs-b9c1eaed-129e-49fc-b9e9-13fb53b5410e' class='xr-var-attrs-in' type='checkbox' disabled><label for='attrs-b9c1eaed-129e-49fc-b9e9-13fb53b5410e' title='Show/Hide attributes'><svg class='icon xr-icon-file-text2'><use xlink:href='#icon-file-text2'></use></svg></label><input id='data-c7bd1809-90c6-4e12-9c7e-af842cb4dfb6' class='xr-var-data-in' type='checkbox'><label for='data-c7bd1809-90c6-4e12-9c7e-af842cb4dfb6' title='Show/Hide data repr'><svg class='icon xr-icon-database'><use xlink:href='#icon-database'></use></svg></label><div class='xr-var-attrs'><dl class='xr-attrs'></dl></div><div class='xr-var-data'><pre>array([-180.,  180.])</pre></div></li><li class='xr-var-item'><div class='xr-var-name'><span>realization_bnds</span></div><div class='xr-var-dims'>(bnds)</div><div class='xr-var-dtype'>int64</div><div class='xr-var-preview xr-preview'>...</div><input id='attrs-f47c18e0-0d6e-480c-b324-0094a25c0f98' class='xr-var-attrs-in' type='checkbox' disabled><label for='attrs-f47c18e0-0d6e-480c-b324-0094a25c0f98' title='Show/Hide attributes'><svg class='icon xr-icon-file-text2'><use xlink:href='#icon-file-text2'></use></svg></label><input id='data-cc78d5c8-a079-4385-99e6-2e16332902b7' class='xr-var-data-in' type='checkbox'><label for='data-cc78d5c8-a079-4385-99e6-2e16332902b7' title='Show/Hide data repr'><svg class='icon xr-icon-database'><use xlink:href='#icon-database'></use></svg></label><div class='xr-var-attrs'><dl class='xr-attrs'></dl></div><div class='xr-var-data'><pre>array([  1, 200])</pre></div></li><li class='xr-var-item'><div class='xr-var-name'><span>tas_lower</span></div><div class='xr-var-dims'>(time)</div><div class='xr-var-dtype'>float64</div><div class='xr-var-preview xr-preview'>...</div><input id='attrs-3b7d2a2e-0637-4ad7-a75f-f5fc7cadd324' class='xr-var-attrs-in' type='checkbox' ><label for='attrs-3b7d2a2e-0637-4ad7-a75f-f5fc7cadd324' title='Show/Hide attributes'><svg class='icon xr-icon-file-text2'><use xlink:href='#icon-file-text2'></use></svg></label><input id='data-7e5d2f57-9d54-47a7-8342-56194bb97465' class='xr-var-data-in' type='checkbox'><label for='data-7e5d2f57-9d54-47a7-8342-56194bb97465' title='Show/Hide data repr'><svg class='icon xr-icon-database'><use xlink:href='#icon-database'></use></svg></label><div class='xr-var-attrs'><dl class='xr-attrs'><dt><span>long_name :</span></dt><dd>2.5% confidence limit for blended air_temperature_anomaly over land with sea_water_temperature_anomaly</dd><dt><span>units :</span></dt><dd>K</dd></dl></div><div class='xr-var-data'><pre>array([-0.981772, -0.700901, -0.933919, ...,  0.712762,  0.657627,  0.659222])</pre></div></li><li class='xr-var-item'><div class='xr-var-name'><span>tas_upper</span></div><div class='xr-var-dims'>(time)</div><div class='xr-var-dtype'>float64</div><div class='xr-var-preview xr-preview'>...</div><input id='attrs-92ef7b9b-6504-4cc3-ad52-00afc9ca32d4' class='xr-var-attrs-in' type='checkbox' ><label for='attrs-92ef7b9b-6504-4cc3-ad52-00afc9ca32d4' title='Show/Hide attributes'><svg class='icon xr-icon-file-text2'><use xlink:href='#icon-file-text2'></use></svg></label><input id='data-fa12ee52-f0c5-4c26-9a4d-a4df6d8d700f' class='xr-var-data-in' type='checkbox'><label for='data-fa12ee52-f0c5-4c26-9a4d-a4df6d8d700f' title='Show/Hide data repr'><svg class='icon xr-icon-database'><use xlink:href='#icon-database'></use></svg></label><div class='xr-var-attrs'><dl class='xr-attrs'><dt><span>long_name :</span></dt><dd>97.5% confidence limit for blended air_temperature_anomaly over land with sea_water_temperature_anomaly</dd><dt><span>units :</span></dt><dd>K</dd></dl></div><div class='xr-var-data'><pre>array([-0.367357,  0.034069, -0.248726, ...,  0.80737 ,  0.755111,  0.764294])</pre></div></li></ul></div></li><li class='xr-section-item'><input id='section-ba927e31-b82f-41a1-b110-f29bf855b5b5' class='xr-section-summary-in' type='checkbox'  checked><label for='section-ba927e31-b82f-41a1-b110-f29bf855b5b5' class='xr-section-summary' >Attributes: <span>(9)</span></label><div class='xr-section-inline-details'></div><div class='xr-section-details'><dl class='xr-attrs'><dt><span>comment :</span></dt><dd>2m air temperature over land blended with sea water temperature at a depth of 20cm expressed as monthly anomalies relative to 1961-1990 climatology.</dd><dt><span>history :</span></dt><dd></dd><dt><span>institution :</span></dt><dd>Met Office Hadley Centre / Climatic Research Unit, University of East Anglia</dd><dt><span>licence :</span></dt><dd>HadCRUT5 is licensed under the Open Government Licence v3.0 except where otherwise stated. To view this licence, visit https://www.nationalarchives.gov.uk/doc/open-government-licence/version/3</dd><dt><span>reference :</span></dt><dd>C. P. Morice, J. J. Kennedy, N. A. Rayner, J. P. Winn, E. Hogan, R. E. Killick, R. J. H. Dunn, T. J. Osborn, P. D. Jones and I. R. Simpson (2020), An updated assessment of near-surface temperature change from 1850: the HadCRUT5 data set, Journal of Geophysical Research: Atmospheres, 126, e2019JD032361. https://doi.org/10.1029/2019JD032361</dd><dt><span>source :</span></dt><dd>CRUTEM.5.0.1.0 HadSST.4.0.0.0</dd><dt><span>title :</span></dt><dd>HadCRUT.5.0.1.0 blended land air temperature and sea-surface temperature anomaly data set</dd><dt><span>version :</span></dt><dd>HadCRUT.5.0.1.0</dd><dt><span>Conventions :</span></dt><dd>CF-1.7</dd></dl></div></li></ul></div></div>"
      ],
      "text/plain": [
       "<xarray.Dataset>\n",
       "Dimensions:           (time: 2058, bnds: 2)\n",
       "Coordinates:\n",
       "  * time              (time) datetime64[ns] 1850-01-16T12:00:00 ... 2021-06-16\n",
       "    latitude          float64 ...\n",
       "    longitude         float64 ...\n",
       "    realization       int64 ...\n",
       "Dimensions without coordinates: bnds\n",
       "Data variables:\n",
       "    tas_mean          (time) float64 ...\n",
       "    time_bnds         (time, bnds) datetime64[ns] ...\n",
       "    latitude_bnds     (bnds) float64 ...\n",
       "    longitude_bnds    (bnds) float64 ...\n",
       "    realization_bnds  (bnds) int64 ...\n",
       "    tas_lower         (time) float64 ...\n",
       "    tas_upper         (time) float64 ...\n",
       "Attributes:\n",
       "    comment:      2m air temperature over land blended with sea water tempera...\n",
       "    history:      \n",
       "    institution:  Met Office Hadley Centre / Climatic Research Unit, Universi...\n",
       "    licence:      HadCRUT5 is licensed under the Open Government Licence v3.0...\n",
       "    reference:    C. P. Morice, J. J. Kennedy, N. A. Rayner, J. P. Winn, E. H...\n",
       "    source:       CRUTEM.5.0.1.0 HadSST.4.0.0.0\n",
       "    title:        HadCRUT.5.0.1.0 blended land air temperature and sea-surfac...\n",
       "    version:      HadCRUT.5.0.1.0\n",
       "    Conventions:  CF-1.7"
      ]
     },
     "execution_count": 3,
     "metadata": {},
     "output_type": "execute_result"
    }
   ],
   "source": [
    "haddat"
   ]
  },
  {
   "cell_type": "markdown",
   "id": "cb15894e-19df-4be1-887d-d6d38d654992",
   "metadata": {},
   "source": [
    "### Load CMIP5 Data for Plotting"
   ]
  },
  {
   "cell_type": "markdown",
   "id": "ed15af52-85bf-4933-bab5-1f62ebe10857",
   "metadata": {},
   "source": [
    "To include a comparison with the climate models, we load in data created with [CMIP5_GMST.ipynb](./CMIP5_GMST.ipynb). The CMIP5 GMST anomalies share the same reference period and 3-year rolling mean qualities."
   ]
  },
  {
   "cell_type": "code",
   "execution_count": 4,
   "id": "970b613f-9127-404e-9dd4-0ae10431e2be",
   "metadata": {},
   "outputs": [],
   "source": [
    "# Load in the saved out 3-year rolling average GMST data\n",
    "cmip5_loadpath='./data/analysis/CMIP5-GMST-3yrmean.nc'\n",
    "cmip5_ds=xr.open_dataset(cmip5_loadpath)\n",
    "# get the model variable names, for posterity\n",
    "model_names=[key for key in cmip5_ds.keys()]"
   ]
  },
  {
   "cell_type": "markdown",
   "id": "203faa52-8c25-4d91-af01-a2bf900158eb",
   "metadata": {},
   "source": [
    "#### Calculate the CMIP5 model GMST envelope"
   ]
  },
  {
   "cell_type": "markdown",
   "id": "b92dbaf1-b86f-481d-9ae6-bd0d6a6ade07",
   "metadata": {},
   "source": [
    "We will calculate the 1$\\sigma$ GMSTs (assuming a normal distribution of the model timeseries outcomes in each year) by evaluating the 17th and 83rd percentiles of the model GMST anomaly timeseries."
   ]
  },
  {
   "cell_type": "code",
   "execution_count": 5,
   "id": "e637bcf9-293b-43a9-b80b-e1e6e5316c9b",
   "metadata": {},
   "outputs": [
    {
     "name": "stderr",
     "output_type": "stream",
     "text": [
      "/home/dgilford/.conda/envs/att/lib/python3.9/site-packages/numpy/lib/nanfunctions.py:1389: RuntimeWarning: All-NaN slice encountered\n",
      "  result = np.apply_along_axis(_nanquantile_1d, axis, a, q,\n"
     ]
    }
   ],
   "source": [
    "# push into a single array\n",
    "cmip5_3year_array=cmip5_ds.to_array()\n",
    "# calculate the 18th-83rd percentiles for the CMIP5 models\n",
    "ql,qu=0.17,0.83\n",
    "qlluu=[ql,qu]\n",
    "gmst_qq=cmip5_ds.to_array().quantile(qlluu,dim='variable')"
   ]
  },
  {
   "cell_type": "markdown",
   "id": "8bf4aa86-ffaf-4782-9e7a-96839cfeb22c",
   "metadata": {},
   "source": [
    "# Organize Data"
   ]
  },
  {
   "cell_type": "code",
   "execution_count": 6,
   "id": "grave-fitness",
   "metadata": {},
   "outputs": [],
   "source": [
    "# get the global mean\n",
    "GMST=haddat[gmst_metric]"
   ]
  },
  {
   "cell_type": "markdown",
   "id": "94981d95-a445-4515-a699-4eb4aff0cb44",
   "metadata": {},
   "source": [
    "### Define time periods of interest\n",
    "i.e.\n",
    "* IPCC Reference period: 1850&mdash;1899\n",
    "* 31-year Counterfactual period: 1885&mdash;1915\n",
    "* Climatology period: 1985&mdash;2015\n",
    "* IPCC Modern Warming period (since Reference): 2010&mdash;2019"
   ]
  },
  {
   "cell_type": "code",
   "execution_count": 7,
   "id": "sound-sussex",
   "metadata": {},
   "outputs": [],
   "source": [
    "# get the slices\n",
    "\n",
    "# IPCC reference period\n",
    "refperiod=np.asarray([1850,1899])\n",
    "ref_slice=util.dt64_yrslice(refperiod[0],refperiod[1])\n",
    "\n",
    "# Counterfactual\n",
    "cf_period=np.asarray([1885,1915])\n",
    "cf_slice=util.dt64_yrslice(cf_period[0],cf_period[1])\n",
    "\n",
    "# 31-year reliably-observed climatology\n",
    "climperiod=np.asarray([1985,2015])\n",
    "clim_slice=util.dt64_yrslice(climperiod[0],climperiod[1])\n",
    "\n",
    "# Decade of modern warming relative to the IPCC reference period\n",
    "ipccwarmperiod=np.asarray([2010,2019])\n",
    "ipcc_warm_slice=util.dt64_yrslice(ipccwarmperiod[0],ipccwarmperiod[1])"
   ]
  },
  {
   "cell_type": "code",
   "execution_count": 8,
   "id": "b1762abb-9425-428a-bdf3-008f9354fa36",
   "metadata": {},
   "outputs": [],
   "source": [
    "# take the slices\n",
    "refdat=GMST.sel(time=ref_slice)\n",
    "cf_dat=GMST.sel(time=cf_slice)\n",
    "climdat=GMST.sel(time=clim_slice)\n",
    "ipcc_warm_dat=GMST.sel(time=ipcc_warm_slice)"
   ]
  },
  {
   "cell_type": "markdown",
   "id": "c2c45837-6fd0-406e-a9d6-9bd71447f539",
   "metadata": {},
   "source": [
    "### Calculate differences between time periods of interest"
   ]
  },
  {
   "cell_type": "code",
   "execution_count": 9,
   "id": "e21d948c-6df4-4c1a-84ac-cd4dc3e03f46",
   "metadata": {},
   "outputs": [
    {
     "name": "stdout",
     "output_type": "stream",
     "text": [
      "+1.09C temperature change since 1850-1900\n"
     ]
    }
   ],
   "source": [
    "# calculate the differences between periods\n",
    "delta_cf=np.round((cf_dat.mean()-refdat.mean()).values,2)\n",
    "delta_clim=np.round((climdat.mean()-refdat.mean()).values,2)\n",
    "delta_ipcc=np.round((ipcc_warm_dat.mean()-refdat.mean()).values,2)\n",
    "print('{0:+}'.format(delta_ipcc)+'C temperature change since 1850-1900')"
   ]
  },
  {
   "cell_type": "markdown",
   "id": "6037a398-784d-4206-b855-930b337a06f4",
   "metadata": {},
   "source": [
    "Note that the attributable warming (from IPCC) is 1.07C, while the IPCC observed warming (2010-2019 relative to the reference period of 1850-1899) is 1.09C."
   ]
  },
  {
   "cell_type": "code",
   "execution_count": 10,
   "id": "9d17252a-82e7-4bce-bc4f-1d02c9e85a52",
   "metadata": {},
   "outputs": [],
   "source": [
    "# define the attributable warming from the IPCC, for reference\n",
    "delta_107C=np.round(1.07,2)"
   ]
  },
  {
   "cell_type": "markdown",
   "id": "7e3eab12-02f1-4e64-be96-2a1d4a10862f",
   "metadata": {},
   "source": [
    "# Analyze"
   ]
  },
  {
   "cell_type": "markdown",
   "id": "8edcc2de-4107-467f-adbc-550eec50a74c",
   "metadata": {},
   "source": [
    "### Change timeseries reference period"
   ]
  },
  {
   "cell_type": "code",
   "execution_count": 11,
   "id": "9945c4f1-e0d7-4257-9f4f-9ecb5598fd5e",
   "metadata": {},
   "outputs": [],
   "source": [
    "# find the anomaly timeseries relative to the reference period\n",
    "GMST_anomaly=GMST-refdat.mean()"
   ]
  },
  {
   "cell_type": "markdown",
   "id": "702a78be-c5b5-47f0-b2ba-3adc9c32d1d7",
   "metadata": {
    "tags": []
   },
   "source": [
    "### Smooth internal variability on full timeseries"
   ]
  },
  {
   "cell_type": "code",
   "execution_count": 12,
   "id": "outstanding-recorder",
   "metadata": {},
   "outputs": [],
   "source": [
    "# take the 3-year mean (36 months)\n",
    "smooth_months=36\n",
    "# use a boxcar filter and center the output\n",
    "had3yrmean=GMST_anomaly.rolling(time=smooth_months,center=True).mean()"
   ]
  },
  {
   "cell_type": "markdown",
   "id": "lucky-mobile",
   "metadata": {},
   "source": [
    "## Plot the timeseries and slices, for reference"
   ]
  },
  {
   "cell_type": "code",
   "execution_count": 13,
   "id": "civilian-knowing",
   "metadata": {},
   "outputs": [
    {
     "data": {
      "image/png": "[encoded data removed]",
      "text/plain": [
       "<Figure size 576x432 with 1 Axes>"
      ]
     },
     "metadata": {
      "needs_background": "light"
     },
     "output_type": "display_data"
    }
   ],
   "source": [
    "fig=plt.figure(figsize=(8,6))\n",
    "# plot the HadCRUT timeseries\n",
    "plt.plot(had3yrmean.time,had3yrmean, \\\n",
    "         lw=3,color='k',label=None)\n",
    "plt.hlines(cf_dat.mean()-refdat.mean(),had3yrmean.time.min().values,had3yrmean.time.max().values, \\\n",
    "           color='k',linestyle='--',label='1885-1915 avg: $'+str(delta_cf)+'^\\circ$C')\n",
    "plt.hlines(climdat.mean()-refdat.mean(),had3yrmean.time.min().values,had3yrmean.time.max().values, \\\n",
    "           color='r',linestyle='--',label='1985-2015 avg: $+'+str(delta_clim)+'^\\circ$C')\n",
    "plt.hlines(delta_107C,had3yrmean.time.min().values,had3yrmean.time.max().values, \\\n",
    "           color='darkred',linestyle='--',label='AR6 Attribution Estimate: $+1.07^\\circ$C')\n",
    "\n",
    "# add in the CMIP5 timeseries envelope\n",
    "plt.fill_between(gmst_qq[0,::1].time.values,gmst_qq[0,::1],gmst_qq[1,::1], \\\n",
    "                 color='k',alpha=0.1)\n",
    "\n",
    "plt.xlim(had3yrmean.time.sel(time=util.dt64_yrslice(cf_period[0],2021))[0].values,had3yrmean.time.sel(time=util.dt64_yrslice(cf_period[0],2021))[-1].values)\n",
    "plt.ylim([-0.4,1.4])\n",
    "plt.grid(linestyle='--')\n",
    "plt.title('GMST Anomaly ($^\\circ$C) relative to 1850-1900',fontsize=16)\n",
    "plt.xlabel('Year',fontsize=18)\n",
    "plt.ylabel('Anomaly ($^\\circ$C)',fontsize=18)\n",
    "plt.yticks(np.arange(-0.25,1.25+1e-10,0.25),fontsize=16)\n",
    "plt.xticks(fontsize=16)\n",
    "plt.legend(fontsize=12,loc='lower right',framealpha=1.0)\n",
    "plt.show()\n",
    "\n",
    "# save the plot out\n",
    "plot_save_name='figS1.pdf'\n",
    "fig.savefig(fig_si_savepath+plot_save_name, dpi=300, bbox_inches='tight')\n"
   ]
  },
  {
   "cell_type": "markdown",
   "id": "e6fbf6ca-91ac-4bee-80cf-977b20a1a6c1",
   "metadata": {
    "tags": []
   },
   "source": [
    "# Save out Data"
   ]
  },
  {
   "cell_type": "code",
   "execution_count": 14,
   "id": "711afb1c-dc45-48fd-a574-bb430fd90bff",
   "metadata": {},
   "outputs": [],
   "source": [
    "# define the savepath and name\n",
    "datsavepath='./data/analysis/GMST-3yrmean.nc'"
   ]
  },
  {
   "cell_type": "code",
   "execution_count": 15,
   "id": "0ade48a7-7b48-4238-b467-4d8005e62c7c",
   "metadata": {},
   "outputs": [
    {
     "name": "stdout",
     "output_type": "stream",
     "text": [
      "<xarray.DataArray 'GMST-3yrmean' (time: 2058)>\n",
      "array([nan, nan, nan, ..., nan, nan, nan])\n",
      "Coordinates:\n",
      "  * time                   (time) datetime64[ns] 1850-01-16T12:00:00 ... 2021...\n",
      "    Counterfactual_Delta   float64 -0.06344\n",
      "    Counterfactual_Period  <U9 '1885-1915'\n",
      "    CLIM_Delta             float64 0.784\n",
      "    CLIM_Period            <U9 '1985-2015'\n",
      "    Attributable_Delta     float64 1.07\n",
      "Attributes:\n",
      "    description:            3-year centered boxcar mean of HadCRUT5 global me...\n",
      "    unit:                   Celsius\n",
      "    IPCC_reference_period:  1850-1899\n",
      "    download_date:          08-17-2021\n",
      "    download_from:          https://www.metoffice.gov.uk/hadobs/hadcrut5/data...\n",
      "    download_version:       HadCRUT.5.0.1.0\n"
     ]
    }
   ],
   "source": [
    "del GMST\n",
    "# organize to save out\n",
    "GMST=had3yrmean.drop(['realization','latitude','longitude']).rename('GMST-3yrmean')\n",
    "GMST.attrs['description']='3-year centered boxcar mean of HadCRUT5 global mean near surface temperature anomalies (C) relative to 1850-1899'\n",
    "GMST.attrs['unit']='Celsius'\n",
    "GMST.attrs['IPCC_reference_period']='1850-1899'\n",
    "GMST.attrs['download_date']='08-17-2021'\n",
    "GMST.attrs['download_from']='https://www.metoffice.gov.uk/hadobs/hadcrut5/data/current/download.html'\n",
    "GMST.attrs['download_version']='HadCRUT.5.0.1.0'\n",
    "\n",
    "# store the anomalies\n",
    "GMST['Counterfactual_Delta']=(cf_dat.mean()-refdat.mean()).values\n",
    "GMST['Counterfactual_Period']='1885-1915'\n",
    "GMST['CLIM_Delta']=(climdat.mean()-refdat.mean()).values\n",
    "GMST['CLIM_Period']='1985-2015'\n",
    "GMST['Attributable_Delta']=delta_107C\n",
    "\n",
    "# print what we are about to save\n",
    "print(GMST)\n",
    "\n",
    "GMST.to_netcdf(datsavepath)"
   ]
  },
  {
   "cell_type": "code",
   "execution_count": null,
   "id": "880ef979-dc41-4a26-a917-e6397eaa7c80",
   "metadata": {},
   "outputs": [],
   "source": []
  }
 ],
 "metadata": {
  "kernelspec": {
   "display_name": "AttributionKernel",
   "language": "python",
   "name": "att"
  },
  "language_info": {
   "codemirror_mode": {
    "name": "ipython",
    "version": 3
   },
   "file_extension": ".py",
   "mimetype": "text/x-python",
   "name": "python",
   "nbconvert_exporter": "python",
   "pygments_lexer": "ipython3",
   "version": "3.9.7"
  }
 },
 "nbformat": 4,
 "nbformat_minor": 5
}
