{
 "cells": [
  {
   "cell_type": "markdown",
   "id": "b9cf30f3-92ac-4bfa-ae39-3c70743f57cb",
   "metadata": {},
   "source": [
    "# Description"
   ]
  },
  {
   "cell_type": "markdown",
   "id": "a0064498-44a7-48fb-a14b-5eb554803df1",
   "metadata": {},
   "source": [
    "This notebook uses output CMIP5 pooled counterfactual histograms from the [CMIP5_create_CFdistribution.ipynb](./CMIP5_create_CFdistribution.ipynb) notebook and resamples them to recover a set of temperatures that is representative of the underlying climate distribution.\n",
    "\n",
    "We first explore the sensitivity of key quantiles in the distribution to number of resamples (with replacement) we take from the histogram. We then use the smallest number of samples where values have converged to the precision (~0.1$^{\\circ}$C) to resample the counterfactual pooled distributions over all geolocations, and output those in zarr files for use in our attribution estimates (probability ratio calculations) going forward."
   ]
  },
  {
   "cell_type": "markdown",
   "id": "debe69d6-3bc7-492a-89cd-60dc1ff96b8d",
   "metadata": {
    "tags": []
   },
   "source": [
    "# Setup"
   ]
  },
  {
   "cell_type": "code",
   "execution_count": 1,
   "id": "2da5a6c3-82ab-452c-9116-2bcc3a0c8e3b",
   "metadata": {},
   "outputs": [],
   "source": [
    "# import the packages we need to run this code\n",
    "import xarray as xr\n",
    "import numpy as np\n",
    "import matplotlib.pyplot as plt\n",
    "import utilities as util"
   ]
  },
  {
   "cell_type": "code",
   "execution_count": 2,
   "id": "cd56ca73-d0a0-4cdd-b85d-034f0f1abb14",
   "metadata": {},
   "outputs": [],
   "source": [
    "# add s3 feature to store data samples remotely\n",
    "import s3fs\n",
    "import zarr\n",
    "s3 = s3fs.S3FileSystem()"
   ]
  },
  {
   "cell_type": "markdown",
   "id": "d4743b4f-b01d-4ffb-b3f4-ef4583acd741",
   "metadata": {},
   "source": [
    "## Find Stabilized Quantiles from Resampling of Natural Distributions\n",
    "\n",
    "We check the quantiles from the maximum temperature distribution across all geolocations and see how sensitive they are to our resampling technique. There is a certain of number of samples that will provide stability to recreating the underlying sample. We check the see whether the quantile estimate converges..."
   ]
  },
  {
   "cell_type": "code",
   "execution_count": 3,
   "id": "8a0c0865-2485-4195-b5f9-4da1be7819da",
   "metadata": {},
   "outputs": [],
   "source": [
    "# define the example month we will be studying\n",
    "eg_month=7\n",
    "# define the name of the pooled distribution variable\n",
    "pooledvarname='CF_pooled'\n",
    "# define the path to saved the pooled distribution into\n",
    "pooled_loadpath='./data/cmip5/cf/'\n",
    "# load each month's pooled data\n",
    "mon_zarrname='pooledCF_mon'+str(eg_month).zfill(2)+'.zarr'\n",
    "ds_in=util.load_zarr_local(pooled_loadpath,mon_zarrname)\n",
    "# define and store the key name of the middle points of the bins, defined through xhist\n",
    "binkey=[i for i in ds_in.dims if 'bin' in i][0]\n",
    "\n",
    "# define the month names and month integer array\n",
    "monzarr='mon{:02d}.zarr'\n",
    "months=np.arange(1,13)"
   ]
  },
  {
   "cell_type": "code",
   "execution_count": 4,
   "id": "b8c1db04-de1b-45d0-b48d-00ea6972e63c",
   "metadata": {},
   "outputs": [
    {
     "name": "stdout",
     "output_type": "stream",
     "text": [
      "1000\n",
      "10000\n",
      "10400\n",
      "100000\n",
      "200000\n",
      "300000\n",
      "1000000\n",
      "10000000\n"
     ]
    }
   ],
   "source": [
    "# define the array giving the number of (re)samples to take\n",
    "nsamps=[1e3,1e4,10_400,1e5,2e5,3e5,1e6,1e7]\n",
    "# define the quantiles to check\n",
    "qcheck=[0.5,0.75,0.9,0.91,0.92,0.93,0.94,0.95,0.96,0.97,0.98,0.99]\n",
    "\n",
    "# initialize the array we will store the results in\n",
    "qvals=np.zeros((len(nsamps),len(qcheck)),dtype='float64')\n",
    "\n",
    "# group all of the values together across the range of latitudes/longitudes to resample\n",
    "array_to_resample=ds_in[pooledvarname].sum({'lat','lon'}).squeeze().load()\n",
    "\n",
    "# loop over the different sets of resampling N-values\n",
    "for i,n in enumerate(nsamps):\n",
    "    \n",
    "    # tell the user how many samples we are currently testing\n",
    "    print(int(n))\n",
    "    \n",
    "    # resample the pooled distribution with the new N\n",
    "    poolcheck=util.randomly_sample_histogram(array_to_resample.values,N=int(n),\n",
    "                                        bins=array_to_resample[binkey])\n",
    "\n",
    "    # calculate the quantiles from the resampled set of values\n",
    "    qvals[i,:]=poolcheck.quantile(qcheck)\n"
   ]
  },
  {
   "cell_type": "code",
   "execution_count": 5,
   "id": "9462589a-3add-4cea-8af8-6e07498f030c",
   "metadata": {},
   "outputs": [
    {
     "data": {
      "image/png": "[encoded data removed]",
      "text/plain": [
       "<Figure size 720x432 with 1 Axes>"
      ]
     },
     "metadata": {
      "needs_background": "light"
     },
     "output_type": "display_data"
    }
   ],
   "source": [
    "# plot the results, and and ensure the values converge to a single number\n",
    "plt.figure(figsize=(10,6))\n",
    "plt.semilogx(nsamps,qvals,lw=3)\n",
    "plt.xlabel('Number of Samples')\n",
    "plt.ylabel('Maximum Temperature associated with Quantile')\n",
    "plt.title('Variation of Quantile estimate with Number of Samples',fontsize=16)\n",
    "plt.show()"
   ]
  },
  {
   "cell_type": "code",
   "execution_count": 6,
   "id": "86ad49eb-aea2-440d-95e9-6550930eda25",
   "metadata": {},
   "outputs": [
    {
     "name": "stdout",
     "output_type": "stream",
     "text": [
      "[[-1.1   -0.2    0.1    0.5    0.397  0.2  ]\n",
      " [ 0.6    0.1    0.1   -0.1   -0.1   -0.1  ]\n",
      " [-0.5   -0.1    0.     0.3    0.1    0.2  ]\n",
      " [ 0.     0.    -0.1    0.     0.     0.   ]\n",
      " [ 0.1    0.     0.1    0.     0.     0.1  ]\n",
      " [-0.1    0.     0.    -0.1    0.    -0.1  ]\n",
      " [ 0.1    0.     0.     0.     0.     0.   ]]\n"
     ]
    }
   ],
   "source": [
    "print(np.round(np.diff(qvals,axis=0),3))"
   ]
  },
  {
   "cell_type": "markdown",
   "id": "3370cd06-aa1d-455d-80e5-a14f59dd0433",
   "metadata": {},
   "source": [
    "The quantile values converge after ~1e5 (one hundred thousand) samples to the order of our precision, $\\pm$1$^{\\circ}$C, which is higher than the precision of the query observations). This implies that the sampling method uses a large enough number to reproduce the quantities of the underlying distribution, at large scale for the whole domain. At smaller scale or a given geolocation with fewer outcomes/smaller maximum temperature range than the whole domain, we would expect this resampling to converge faster.\n",
    "\n",
    "Accordingly, this method is used going forward in our attribution analyses with ```N=100_000``` samples."
   ]
  },
  {
   "cell_type": "markdown",
   "id": "34a31196-f7fa-403c-a8c3-7dc22b29dc35",
   "metadata": {
    "tags": []
   },
   "source": [
    "# Create Single Pooled Counterfactual Output File"
   ]
  },
  {
   "cell_type": "markdown",
   "id": "eb11821f-d55e-4063-aeab-3bdc49cb4e20",
   "metadata": {},
   "source": [
    "We have created a set of pooled counterfactual distributions and stored them alongside each model's bias-adjusted natural distribution, which enables comparison, etc. in this notebook.\n",
    "\n",
    "Next, let's create a single file that has stores a resampled set of values from the pooled counterfactual distribution, for use throughout the remainder of our attribution analysis."
   ]
  },
  {
   "cell_type": "code",
   "execution_count": 7,
   "id": "27b30b08-9019-4da7-8eca-da4bef9f2fcd",
   "metadata": {},
   "outputs": [],
   "source": [
    "# define the number of samples we will take at each location,\n",
    "# given the sensitivity found above:\n",
    "N=100_000"
   ]
  },
  {
   "cell_type": "code",
   "execution_count": 8,
   "id": "8cf7919b-45c8-4095-8f64-e74a1916d0c3",
   "metadata": {},
   "outputs": [
    {
     "name": "stdout",
     "output_type": "stream",
     "text": [
      "Completed resampling, month==1\n",
      "Completed resampling, month==2\n",
      "Completed resampling, month==3\n",
      "Completed resampling, month==4\n",
      "Completed resampling, month==5\n",
      "Completed resampling, month==6\n",
      "Completed resampling, month==7\n",
      "Completed resampling, month==8\n",
      "Completed resampling, month==9\n",
      "Completed resampling, month==10\n",
      "Completed resampling, month==11\n",
      "Completed resampling, month==12\n"
     ]
    }
   ],
   "source": [
    "# loop over the months\n",
    "for mi in months:\n",
    "    \n",
    "    # load each month's pooled data\n",
    "    mon_zarrname='pooledCF_mon'+str(mi).zfill(2)+'.zarr'\n",
    "    ds_mi=util.load_zarr_local(pooled_loadpath,mon_zarrname)\n",
    "    # grab the CF distribution we need\n",
    "    CF_pooled=ds_mi[pooledvarname].load()\n",
    "    del ds_mi\n",
    "    \n",
    "    # resample the distribution over space N times\n",
    "    CF_resample=xr.apply_ufunc(\n",
    "                util.randomly_sample_histogram,\n",
    "                CF_pooled,\n",
    "                kwargs=dict(N=N,bins=CF_pooled[binkey]),\n",
    "                input_core_dims=[\n",
    "                    [binkey],\n",
    "                ],\n",
    "                output_core_dims=[\n",
    "                    ['samples'],\n",
    "                ],\n",
    "                vectorize=True\n",
    "            )\n",
    "    \n",
    "    # store the result\n",
    "    store = s3fs.S3Map(root='s3://gridded-data-dev/CMIP5_resample/'+monzarr,\n",
    "                       s3=s3fs.S3FileSystem(), check=False)\n",
    "    encoding = {CF_resample.name: {'compressor':zarr.Blosc(cname='zstd', clevel=3)}}\n",
    "    CF_resample.to_dataset().to_zarr(store=store, encoding=encoding, consolidated=True, mode='w')\n",
    "    \n",
    "    # clean up\n",
    "    del CF_pooled, CF_resample\n",
    "    \n",
    "    # tell the user where we are\n",
    "    print('Completed resampling, month=='+str(mi))\n"
   ]
  },
  {
   "cell_type": "code",
   "execution_count": null,
   "id": "c9325024-7a07-48f2-b7ce-1b050f53c259",
   "metadata": {},
   "outputs": [],
   "source": []
  }
 ],
 "metadata": {
  "kernelspec": {
   "display_name": "AttributionKernel",
   "language": "python",
   "name": "att"
  },
  "language_info": {
   "codemirror_mode": {
    "name": "ipython",
    "version": 3
   },
   "file_extension": ".py",
   "mimetype": "text/x-python",
   "name": "python",
   "nbconvert_exporter": "python",
   "pygments_lexer": "ipython3",
   "version": "3.9.7"
  }
 },
 "nbformat": 4,
 "nbformat_minor": 5
}
