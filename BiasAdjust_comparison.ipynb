{
 "cells": [
  {
   "cell_type": "markdown",
   "id": "3aa452a8-a1e2-4924-94fb-52dc2ca15f40",
   "metadata": {},
   "source": [
    "# Description"
   ]
  },
  {
   "cell_type": "markdown",
   "id": "7730ecf0-0502-4321-ab8b-80562dfe43d6",
   "metadata": {},
   "source": [
    "This notebook is written to visualize an example set of bias adjustment results computed in this project's [BiasAdjust_model_run.ipynb](./BiasAdjust_model_run.ipynb) notebook. We examine the magnitude of the bias adjustment and it's geospatial and probability space structure."
   ]
  },
  {
   "cell_type": "markdown",
   "id": "a178ff8b-5bf3-4d61-816f-4c994d01ac11",
   "metadata": {},
   "source": [
    "# Setup"
   ]
  },
  {
   "cell_type": "code",
   "execution_count": 1,
   "id": "4d7531e3-58fb-428b-a594-e237176ae182",
   "metadata": {},
   "outputs": [],
   "source": [
    "# import the packages we need to run this code\n",
    "import xarray as xr\n",
    "import numpy as np\n",
    "import pandas as pd\n",
    "import matplotlib.pyplot as plt\n",
    "import utilities as util\n",
    "import pickle\n",
    "\n",
    "# import what we need for the statistical/visual comparison\n",
    "from statsmodels.distributions.empirical_distribution import ECDF\n",
    "import cartopy.crs as ccrs"
   ]
  },
  {
   "cell_type": "markdown",
   "id": "f7190bf7-5d03-4198-822c-aaa88ee8e243",
   "metadata": {},
   "source": [
    "As an example we focus on GFDL-CM3 and July ('mon07'). \n",
    "\n",
    "The example location we choose is Phoenix, AZ, USA."
   ]
  },
  {
   "cell_type": "code",
   "execution_count": 2,
   "id": "be25711d-1e24-41b4-ac5a-4bd2a7f81fb4",
   "metadata": {},
   "outputs": [],
   "source": [
    "# define the example month and model we will be studying\n",
    "mname='GFDL-CM3'\n",
    "eg_month=7\n",
    "\n",
    "# define the location to look at the distributions\n",
    "eg_loc="
   ]
  },
  {
   "cell_type": "markdown",
   "id": "49406244-e4af-4303-978a-9746b784abf7",
   "metadata": {},
   "source": [
    "# Load example bias-adjustment dictionary"
   ]
  },
  {
   "cell_type": "code",
   "execution_count": 3,
   "id": "c3ce4551-c688-41e0-81d5-589b5512888f",
   "metadata": {},
   "outputs": [],
   "source": [
    "# define the directory where the example analysis dictionary is located\n",
    "eg_loadpath='./data/cmip5/ba_comparison/'\n",
    "\n",
    "# define the location of the bias-adjustment dictionary output from the sister notebook\n",
    "loadfile='egdata_BA_'+mname+'_mon{:02d}.pkl'.format(eg_month)\n",
    "\n",
    "# load in the result\n",
    "with open(eg_loadpath+loadfile, \"rb\") as input_file:\n",
    "    eg_storage = pickle.load(input_file)"
   ]
  },
  {
   "cell_type": "markdown",
   "id": "7fe374f4-5d5a-4b7f-b28d-2df937ef1233",
   "metadata": {
    "tags": []
   },
   "source": [
    "# Bias-adjustment comparison"
   ]
  },
  {
   "cell_type": "markdown",
   "id": "0d68bf33-19f8-4da7-8854-7ff162bc27e4",
   "metadata": {},
   "source": [
    "### Setup"
   ]
  },
  {
   "cell_type": "code",
   "execution_count": 4,
   "id": "e70524a9-0923-4895-910d-2ebec5c7491f",
   "metadata": {},
   "outputs": [
    {
     "name": "stdout",
     "output_type": "stream",
     "text": [
      "dict_keys(['month', 'model', 'forced_xsimadj_BA', 'forced_xsimadj_raw', 'xsimcal', 'xobscal', 'natural_xsimadj_BA', 'natural_xsimadj_raw'])\n"
     ]
    }
   ],
   "source": [
    "print(eg_storage.keys())"
   ]
  },
  {
   "cell_type": "code",
   "execution_count": 5,
   "id": "d5c27a78-307a-4498-8674-8d43a4dedb76",
   "metadata": {},
   "outputs": [],
   "source": [
    "# import what we need for the statistical/visual comparison\n",
    "from statsmodels.distributions.empirical_distribution import ECDF\n",
    "import pandas as pd"
   ]
  },
  {
   "cell_type": "markdown",
   "id": "d54245d9-2486-4656-b65a-2daee180c7de",
   "metadata": {},
   "source": [
    "## Crossing years for Forced Distribution"
   ]
  },
  {
   "cell_type": "markdown",
   "id": "f9edf134-f8c6-42f9-8b06-50af992bb156",
   "metadata": {},
   "source": [
    "### Load Crossing Year Data"
   ]
  },
  {
   "cell_type": "code",
   "execution_count": 6,
   "id": "8e970f3c-cd38-4201-9a9a-a82ca3fcbf2f",
   "metadata": {},
   "outputs": [
    {
     "name": "stdout",
     "output_type": "stream",
     "text": [
      "CrossYear_1.07C    2013\n",
      "FirstYear          1998\n",
      "LastYear           2028\n",
      "Name: GFDL-CM3, dtype: int64\n"
     ]
    }
   ],
   "source": [
    "# define the loadpath for the crossing years of a particular threshold value\n",
    "deltaC=1.07\n",
    "cross_loadpath='./data/analysis/CMIP5_crossing_year_'+str(np.round(deltaC,2))+'C.csv'\n",
    "# load the file from the save file for each model, reindex it with model names\n",
    "cross_dat=pd.read_csv(cross_loadpath,index_col=[0])\n",
    "\n",
    "# print the results for the example model\n",
    "print(cross_dat.loc[mname])"
   ]
  },
  {
   "cell_type": "markdown",
   "id": "70138d3e-3d90-4205-b116-9f12d90c3b36",
   "metadata": {},
   "source": [
    "### Get Forced Slice over the Crossing Years"
   ]
  },
  {
   "cell_type": "code",
   "execution_count": 15,
   "id": "f06abef6-0e42-4ce0-91e0-98fafcfbe31a",
   "metadata": {},
   "outputs": [],
   "source": [
    "# define the slice between the first and last year for this model\n",
    "eg_crossing_slice=util.dt64_yrslice(\n",
    "    cross_dat.loc[mname]['FirstYear'], cross_dat.loc[mname]['LastYear']\n",
    ")\n",
    "# slice the datasets accordingly\n",
    "eg_storage['forced_xsimadj_BA']=eg_storage['forced_xsimadj_BA'].sel(time=eg_crossing_slice)\n",
    "eg_storage['forced_xsimadj_raw']=eg_storage['forced_xsimadj_raw'].sel(time=eg_crossing_slice)\n"
   ]
  },
  {
   "cell_type": "markdown",
   "id": "a71a5eb5-ff3a-4c16-87d3-bb0f25228212",
   "metadata": {},
   "source": [
    "### Calculate Bias-adjustment magnitudes"
   ]
  },
  {
   "cell_type": "code",
   "execution_count": 16,
   "id": "ee1dd8b6-f023-4015-8b0e-98d5b2bd3908",
   "metadata": {},
   "outputs": [],
   "source": [
    "# calculate the specific bias adjustment magnitude by differencing raw and BA\n",
    "BA_magnitude_forced=eg_storage['forced_xsimadj_BA']-eg_storage['forced_xsimadj_raw']\n",
    "BA_magnitude_natural=eg_storage['natural_xsimadj_BA']-eg_storage['natural_xsimadj_raw']"
   ]
  },
  {
   "cell_type": "markdown",
   "id": "ca0ae0a3-5b6f-4354-80f9-f9cdfee6f68d",
   "metadata": {},
   "source": [
    "## Map Example bias adjustments at the Median ($q_i$=0.5)"
   ]
  },
  {
   "cell_type": "code",
   "execution_count": 45,
   "id": "a41db8b5-e7ae-4ddf-a6af-01357dbfb4e0",
   "metadata": {},
   "outputs": [],
   "source": [
    "# wrap around the prime meridian before plotting\n",
    "BA_forced_cyc = util.xr_add_cyclic_point(BA_magnitude_forced.TMAX, 'lon')\n",
    "BA_natural_cyc = util.xr_add_cyclic_point(BA_magnitude_natural.TMAX, 'lon')"
   ]
  },
  {
   "cell_type": "code",
   "execution_count": 46,
   "id": "c9a2111e-8641-4b4e-9358-ab2f7e3a69fa",
   "metadata": {},
   "outputs": [],
   "source": [
    "# define the quantile we will analyze over time\n",
    "qi=0.5"
   ]
  },
  {
   "cell_type": "code",
   "execution_count": null,
   "id": "da525307-5be0-40c6-a209-b4c38f7f7d95",
   "metadata": {},
   "outputs": [],
   "source": [
    "# setup things for the plot\n",
    "levs=np.arange(-12,12+1,1)\n",
    "\n",
    "# plot the result\n",
    "fig=plt.figure(figsize=(12,12))\n",
    "\n",
    "## FORCED\n",
    "# create a subplot\n",
    "ax1 = plt.subplot(2, 1, 1, projection=ccrs.PlateCarree())\n",
    "# plot the \n",
    "datp1=ax1.contourf(BA_forced_cyc.lon,BA_forced_cyc.lat,\n",
    "                   BA_forced_cyc.quantile(qi,dim='time'), \\\n",
    "                        levels=levs, transform=ccrs.PlateCarree(), \\\n",
    "                        cmap='RdBu_r', extend='both')\n",
    "# draw the coastlines\n",
    "ax1.coastlines()\n",
    "ax1.gridlines(alpha=0.25,linestyle=(0, (5, 1)) )\n",
    "# fig.colorbar(datp1)\n",
    "# add the scenario string\n",
    "plt.text(-165,-53,'Forced',color='black',fontsize=22,transform=ccrs.PlateCarree())\n",
    "plt.title(mname+', absolute value of $T_{max}$ bias adjustments ($^{\\circ}$C)',fontsize=22)\n",
    "\n",
    "## NATURAL\n",
    "# create a subplot\n",
    "ax2 = plt.subplot(2, 1, 2, projection=ccrs.PlateCarree())\n",
    "# plot the \n",
    "datp2=ax2.contourf(BA_natural_cyc.lon,BA_natural_cyc.lat,\n",
    "                   BA_natural_cyc.quantile(qi,dim='time'), \\\n",
    "                        levels=levs, transform=ccrs.PlateCarree(), \\\n",
    "                        cmap='RdBu_r', extend='both')\n",
    "# draw the coastlines\n",
    "ax2.coastlines()\n",
    "ax2.gridlines(alpha=0.25,linestyle=(0, (5, 1)) )\n",
    "# add the scenario string\n",
    "plt.text(-165,-53,'Natural',color='black',fontsize=22,transform=ccrs.PlateCarree())\n",
    "\n",
    "# make a single large colorbar\n",
    "fig.subplots_adjust(right=0.8)\n",
    "cbar_ax = fig.add_axes([0.82, 0.25, 0.025, 0.5])\n",
    "ticklabs = cbar_ax.get_yticklabels()\n",
    "cbar_ax.set_yticklabels(levs, fontsize=14)\n",
    "fig.colorbar(datp1, cax=cbar_ax)\n",
    "\n",
    "# adjust the white space between the subplots\n",
    "plt.subplots_adjust(wspace=0.05, hspace=0.)\n",
    "plt.show()"
   ]
  },
  {
   "cell_type": "markdown",
   "id": "b2699847-0a06-496d-80d5-b7447cd2e1d1",
   "metadata": {},
   "source": [
    "Note that the bias adjustments between the two scenarios have quite a similar magnitude at the median."
   ]
  },
  {
   "cell_type": "code",
   "execution_count": null,
   "id": "d0946a96-4424-482b-b33b-84689498e532",
   "metadata": {},
   "outputs": [],
   "source": []
  }
 ],
 "metadata": {
  "kernelspec": {
   "display_name": "Python 3.9 Attribution",
   "language": "python",
   "name": "attribution_py39"
  },
  "language_info": {
   "codemirror_mode": {
    "name": "ipython",
    "version": 3
   },
   "file_extension": ".py",
   "mimetype": "text/x-python",
   "name": "python",
   "nbconvert_exporter": "python",
   "pygments_lexer": "ipython3",
   "version": "3.9.9"
  }
 },
 "nbformat": 4,
 "nbformat_minor": 5
}
