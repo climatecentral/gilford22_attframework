{
 "cells": [
  {
   "cell_type": "code",
   "execution_count": null,
   "id": "a31d67eb-4043-42cd-bbdb-dbe43a710a55",
   "metadata": {},
   "outputs": [],
   "source": []
  },
  {
   "cell_type": "markdown",
   "id": "7fe374f4-5d5a-4b7f-b28d-2df937ef1233",
   "metadata": {
    "tags": []
   },
   "source": [
    "# Bias-adjustment comparison"
   ]
  },
  {
   "cell_type": "markdown",
   "id": "41702ac4-5596-4ce1-95fa-4ed676ec454b",
   "metadata": {},
   "source": [
    "Explanation..."
   ]
  },
  {
   "cell_type": "markdown",
   "id": "0d68bf33-19f8-4da7-8854-7ff162bc27e4",
   "metadata": {},
   "source": [
    "### Setup"
   ]
  },
  {
   "cell_type": "code",
   "execution_count": null,
   "id": "e70524a9-0923-4895-910d-2ebec5c7491f",
   "metadata": {},
   "outputs": [],
   "source": [
    "print(eg_storage.keys())"
   ]
  },
  {
   "cell_type": "code",
   "execution_count": null,
   "id": "d5c27a78-307a-4498-8674-8d43a4dedb76",
   "metadata": {},
   "outputs": [],
   "source": [
    "# import what we need for the statistical/visual comparison\n",
    "from statsmodels.distributions.empirical_distribution import ECDF\n",
    "import pandas as pd"
   ]
  },
  {
   "cell_type": "markdown",
   "id": "d54245d9-2486-4656-b65a-2daee180c7de",
   "metadata": {},
   "source": [
    "### Load Crossing Data"
   ]
  },
  {
   "cell_type": "code",
   "execution_count": null,
   "id": "8e970f3c-cd38-4201-9a9a-a82ca3fcbf2f",
   "metadata": {},
   "outputs": [],
   "source": [
    "# define the loadpath for the crossing years of a particular threshold value\n",
    "deltaC=1.07\n",
    "cross_loadpath='./data/analysis/CMIP5_crossing_year_'+str(np.round(deltaC,2))+'C.csv'\n",
    "# load the file from the save file for each model, reindex it with model names\n",
    "cross_dat=pd.read_csv(cross_loadpath,index_col=[0])\n",
    "\n",
    "# print the results for the example model\n",
    "print(cross_dat.loc[mname])"
   ]
  },
  {
   "cell_type": "markdown",
   "id": "ca0ae0a3-5b6f-4354-80f9-f9cdfee6f68d",
   "metadata": {},
   "source": [
    "## Mapping the example bias adjustments"
   ]
  },
  {
   "cell_type": "code",
   "execution_count": null,
   "id": "a41db8b5-e7ae-4ddf-a6af-01357dbfb4e0",
   "metadata": {},
   "outputs": [],
   "source": [
    "# calculate the specific bias adjustment magnitude by differencing raw and BA\n",
    "BA_magnitude_forced=eg_storage['forced_xsimadj_BA']-eg_storage['forced_xsimadj_raw']\n",
    "BA_magnitude_natural=eg_storage['natural_xsimadj_BA']-eg_storage['natural_xsimadj_raw']\n",
    "\n",
    "# wrap around the prime meridian before plotting\n",
    "BA_forced_cyc = util.add_cyclic_point(BA_magnitude_forced.TMAX, 'lon')\n",
    "BA_natural_cyc = util.add_cyclic_point(BA_magnitude_natural.TMAX, 'lon')"
   ]
  },
  {
   "cell_type": "code",
   "execution_count": null,
   "id": "cb59308a-9c99-4452-9c4b-380059756ccf",
   "metadata": {},
   "outputs": [],
   "source": [
    "stop_here"
   ]
  },
  {
   "cell_type": "code",
   "execution_count": null,
   "id": "da525307-5be0-40c6-a209-b4c38f7f7d95",
   "metadata": {},
   "outputs": [],
   "source": [
    "fig=plt.figure()\n",
    "\n",
    "\n",
    "\n",
    "# plot the result\n",
    "ax = plt.subplot(6, 4, hh+1, projection=ccrs.PlateCarree())\n",
    "\n",
    "levs=np.arange(-10,10,1)\n",
    "datp=ax.contourf(DIFF_qj_cyc.lon,DIFF_qj_cyc.lat,DIFF_qj_cyc, \\\n",
    "                        levels=levs, transform=ccrs.PlateCarree(), \\\n",
    "                        cmap='RdBu_r', extend='both')\n",
    "\n",
    "# draw the coastlines\n",
    "ax.coastlines()\n",
    "ax.gridlines(alpha=0.25,linestyle=(0, (5, 1)) )\n",
    "\n",
    "# add the model string\n",
    "plt.text(-165,-53,mname,color='black',fontsize=14,transform=ccrs.PlateCarree())\n",
    "\n",
    "# clean up\n",
    "del ba_qj, un_qj, diff_qj, un_dat, ba_dat\n",
    "del DIFF_qj_cyc, zname\n",
    "print(mname)\n",
    "\n",
    "plt.show()"
   ]
  }
 ],
 "metadata": {
  "kernelspec": {
   "display_name": "Python 3.9 Attribution",
   "language": "python",
   "name": "attribution_py39"
  },
  "language_info": {
   "codemirror_mode": {
    "name": "ipython",
    "version": 3
   },
   "file_extension": ".py",
   "mimetype": "text/x-python",
   "name": "python",
   "nbconvert_exporter": "python",
   "pygments_lexer": "ipython3",
   "version": "3.9.9"
  }
 },
 "nbformat": 4,
 "nbformat_minor": 5
}
